{
  "nbformat": 4,
  "nbformat_minor": 0,
  "metadata": {
    "colab": {
      "provenance": [],
      "authorship_tag": "ABX9TyN0o33sQ5tkP6w1APvn3XrD",
      "include_colab_link": true
    },
    "kernelspec": {
      "name": "python3",
      "display_name": "Python 3"
    },
    "language_info": {
      "name": "python"
    }
  },
  "cells": [
    {
      "cell_type": "markdown",
      "metadata": {
        "id": "view-in-github",
        "colab_type": "text"
      },
      "source": [
        "<a href=\"https://colab.research.google.com/github/shallynagfase9/Data-Science-Masters/blob/main/Multiprocessing_assgmt.ipynb\" target=\"_parent\"><img src=\"https://colab.research.google.com/assets/colab-badge.svg\" alt=\"Open In Colab\"/></a>"
      ]
    },
    {
      "cell_type": "code",
      "execution_count": null,
      "metadata": {
        "id": "pTZyPhMZ4Mj5"
      },
      "outputs": [],
      "source": [
        "# Q1. What is multiprocessing in python? Why is it useful?\n",
        "# Multiprocessing is a process in which multiple process takes place concurrently in a Python program.\n",
        "\"\"\" Multiprocessing in Python is a valuable technique for achieving parallelism,\n",
        "improving performance, and enhancing the robustness of applications, especially for CPU-bound tasks. \"\"\""
      ]
    },
    {
      "cell_type": "code",
      "source": [
        "# Q2. What are the differences between multiprocessing and multithreading?\n",
        "\"\"\" Multiprocessing uses two or more CPUs to increase computing power,\n",
        "whereas multithreading uses a single process with multiple code segments to increase computing power. \"\"\""
      ],
      "metadata": {
        "id": "U3GXXVVH8FXv"
      },
      "execution_count": null,
      "outputs": []
    },
    {
      "cell_type": "code",
      "source": [
        "# Q3. Write a python code to create a process using the multiprocessing module.\n",
        "import multiprocessing\n",
        "\n",
        "def test():\n",
        "  print(\"Test process is working\")\n",
        "\n",
        "if __name__ == '__main__':\n",
        "  process = multiprocessing.Process(target = test)\n",
        "\n",
        "  process.start()\n",
        "  process.join()\n",
        "\n",
        "  print(\"Main process is done.\")\n",
        "\n",
        "\n"
      ],
      "metadata": {
        "id": "3Wl8_xHT8l_n",
        "colab": {
          "base_uri": "https://localhost:8080/"
        },
        "outputId": "f2253f12-4af5-404a-faa5-f41a10e6ae70"
      },
      "execution_count": null,
      "outputs": [
        {
          "output_type": "stream",
          "name": "stdout",
          "text": [
            "Test process is working\n",
            "Main process is done.\n"
          ]
        }
      ]
    },
    {
      "cell_type": "code",
      "source": [
        "# Q4. What is a multiprocessing pool in python? Why is it used?\n",
        "\"\"\"A multiprocessing pool in Python refers to a pool of worker processes managed by the multiprocessing module that are used to parallelize the execution of a function or\n",
        "a set of functions.\n",
        "It provides a convenient way to distribute tasks across multiple processes and collect their results efficiently.\n",
        "Multiprocessing pools are commonly used for parallelizing CPU-bound or I/O-bound tasks to make efficient use of multi-core CPUs.\"\"\"\n",
        "import multiprocessing\n",
        "\n",
        "def square(x):\n",
        "  return x*x\n",
        "\n",
        "if __name__ == '__main__':\n",
        "  pool = multiprocessing.Pool(processes = 5)\n",
        "\n",
        "  value = [1,2,3,4,5,6,7,8,9,10]\n",
        "\n",
        "  results = pool.map(square,value)\n",
        "\n",
        "  pool.close()\n",
        "  pool.join()\n",
        "\n",
        "  print(\"Results:\",results)\n",
        "\n",
        "\n"
      ],
      "metadata": {
        "colab": {
          "base_uri": "https://localhost:8080/"
        },
        "id": "KNs5iu6c9usl",
        "outputId": "f0ba7676-16d4-4d27-f74b-0541c14dfafd"
      },
      "execution_count": 8,
      "outputs": [
        {
          "output_type": "stream",
          "name": "stdout",
          "text": [
            "Results: [1, 4, 9, 16, 25, 36, 49, 64, 81, 100]\n"
          ]
        }
      ]
    },
    {
      "cell_type": "code",
      "source": [
        "# Q5. How can we create a pool of worker processes in python using the multiprocessing module?\n",
        "import multiprocessing\n",
        "\n",
        "def worker_process(x):\n",
        "  return x*x\n",
        "\n",
        "if __name__ == '__main__':\n",
        "  process = multiprocessing.Pool(processes = 5)\n",
        "\n",
        "  value = [1,2,3,4,5,6,7,8,9,10]\n",
        "\n",
        "  results = process.map(worker_process,value)\n",
        "\n",
        "  process.close()\n",
        "  process.join()\n",
        "\n",
        "  print(\"Results:\",results)\n",
        "\n",
        "\n"
      ],
      "metadata": {
        "colab": {
          "base_uri": "https://localhost:8080/"
        },
        "id": "r4Z2nlGy_fU_",
        "outputId": "88ceb2c4-a0b3-470f-86e6-894b020f1c22"
      },
      "execution_count": 10,
      "outputs": [
        {
          "output_type": "stream",
          "name": "stdout",
          "text": [
            "Results: [1, 4, 9, 16, 25, 36, 49, 64, 81, 100]\n"
          ]
        }
      ]
    },
    {
      "cell_type": "code",
      "source": [
        "\"\"\" Q6. Write a python program to create 4 processes, each process should print a different number using the\n",
        "multiprocessing module in python.\"\"\"\n",
        "import multiprocessing\n",
        "\n",
        "def print_num(number):\n",
        "  print(f\"Process {number}:{number}  /n\")\n",
        "\n",
        "if __name__ == '__main__':\n",
        "\n",
        "  number = [1,2,3,4]\n",
        "\n",
        "  process = multiprocessing.Pool(processes = 4)\n",
        "\n",
        "  results = process.map(print_num,number)\n",
        "\n",
        "  process.close()\n",
        "  process.join()\n",
        "\n",
        "\n"
      ],
      "metadata": {
        "colab": {
          "base_uri": "https://localhost:8080/"
        },
        "id": "VKbATtyM_3rB",
        "outputId": "4c1fb6fe-fa01-46f4-f51b-fc6700e5f046"
      },
      "execution_count": 16,
      "outputs": [
        {
          "output_type": "stream",
          "name": "stdout",
          "text": [
            "Process 2:2  /nProcess 1:1  /nProcess 3:3  /nProcess 4:4  /n\n",
            "\n",
            "\n",
            "\n"
          ]
        }
      ]
    }
  ]
}