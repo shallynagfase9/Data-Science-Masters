{
  "nbformat": 4,
  "nbformat_minor": 0,
  "metadata": {
    "colab": {
      "provenance": [],
      "authorship_tag": "ABX9TyNLFBAV0+WSt6fugFQn/3SK",
      "include_colab_link": true
    },
    "kernelspec": {
      "name": "python3",
      "display_name": "Python 3"
    },
    "language_info": {
      "name": "python"
    }
  },
  "cells": [
    {
      "cell_type": "markdown",
      "metadata": {
        "id": "view-in-github",
        "colab_type": "text"
      },
      "source": [
        "<a href=\"https://colab.research.google.com/github/shallynagfase9/Data-Science-Masters/blob/main/Multithreading_assgmt.ipynb\" target=\"_parent\"><img src=\"https://colab.research.google.com/assets/colab-badge.svg\" alt=\"Open In Colab\"/></a>"
      ]
    },
    {
      "cell_type": "code",
      "execution_count": null,
      "metadata": {
        "id": "VAXMqStQcWap"
      },
      "outputs": [],
      "source": [
        "# Q 1. What is multithreading in python? Why is it used? Name the module used to handle threads in python.\n",
        "# Multithreading is a process where multiple threads executes concurrently within a single process.\n",
        "\"\"\" Multithreading in Python is used to achieve concurrency and parallelism by allowing multiple threads\n",
        "to execute tasks concurrently within a single process.\"\"\"\n",
        "# \"Multithreading\" is the module used to handle threads in python\n"
      ]
    },
    {
      "cell_type": "code",
      "source": [
        "\"\"\"\n",
        "Q 2. Why threading module used? Write the use of the following functions\n",
        "1. activeCount\n",
        "2. currentThread\n",
        "3. enumerate\n",
        "\"\"\"\n",
        "# The threading module in Python is used to work with threads, allowing you to create and manage multiple threads within a single Python process.\n",
        "# activeCount() is a function provided by the threading module, and it is used to obtain the current number of Thread objects active in the program.\n",
        "# currentThread() is another function provided by the threading module, and it is used to obtain a reference to the currently executing Thread object.\n",
        "# enumerate() is a function provided by the threading module, and it is used to obtain a list of all Thread objects currently active in the program.\n",
        "\n"
      ],
      "metadata": {
        "id": "1dg6XUnydUTF"
      },
      "execution_count": null,
      "outputs": []
    },
    {
      "cell_type": "code",
      "source": [
        "\"\"\"\n",
        "Q 3. Explain the following functions:\n",
        "1. run()\n",
        "2. start()\n",
        "3. join()\n",
        "4. isAlive()\n",
        "\"\"\"\n",
        "\"\"\" 1. The run() method is the entry point for the thread's activity. It contains the code that will be executed when the thread is started using the start() method. \"\"\"\n",
        "\"\"\" 2. The start() method is used to initiate the execution of a thread. It tells the Python interpreter\n",
        "to begin running the thread's run() method in the background concurrently with other threads. \"\"\"\n",
        "\"\"\" 3. The join() method is used to block the execution of the current thread until the thread on which it is called has completed its execution.\n",
        "This method is often used to wait for a thread to finish its work before continuing with the main program or other tasks.\"\"\"\n",
        "\"\"\" 4. The isAlive() method is used to check whether a thread is currently alive and running.\n",
        "It returns True if the thread is running and False if it has completed its execution or hasn't started yet. \"\"\"\n"
      ],
      "metadata": {
        "id": "tWeGS69KerCn"
      },
      "execution_count": null,
      "outputs": []
    },
    {
      "cell_type": "code",
      "source": [
        "\"\"\"\n",
        "Q 4. Write a python program to create two threads.\n",
        "Thread one must print the list of squares and thread\n",
        "two must print the list of cubes\n",
        "\"\"\"\n",
        "import threading\n",
        "\n",
        "def print_squares(n):\n",
        "  print(\"Squares:\")\n",
        "  for i in range(1, n+1):\n",
        "    print(f\"{i} squared is {i*i}\")\n",
        "\n",
        "def print_cubes(n):\n",
        "  print(\"Cubes:\")\n",
        "  for i in range(1, n+1):\n",
        "    print(f\"{i} Cubed is {i*i*i}\")\n",
        "\n",
        "n = 10\n",
        "\n",
        "thread1 = threading.Thread(target = print_squares, args = (n,))\n",
        "thread2 = threading.Thread(target = print_cubes, args = (n,))\n",
        "\n",
        "thread1.start()\n",
        "thread2.start()\n",
        "\n",
        "thread1.join()\n",
        "thread2.join()\n",
        "\n",
        "\n"
      ],
      "metadata": {
        "colab": {
          "base_uri": "https://localhost:8080/"
        },
        "id": "UwTVLHPdgV_s",
        "outputId": "8d62db4e-0cd4-4d92-e8e8-5d93295b2c03"
      },
      "execution_count": 2,
      "outputs": [
        {
          "output_type": "stream",
          "name": "stdout",
          "text": [
            "Squares:\n",
            "1 squared is 1\n",
            "2 squared is 4\n",
            "3 squared is 9\n",
            "4 squared is 16\n",
            "5 squared is 25\n",
            "6 squared is 36\n",
            "7 squared is 49\n",
            "8 squared is 64\n",
            "9 squared is 81\n",
            "10 squared is 100\n",
            "Cubes:\n",
            "1 Cubed is 1\n",
            "2 Cubed is 8\n",
            "3 Cubed is 27\n",
            "4 Cubed is 64\n",
            "5 Cubed is 125\n",
            "6 Cubed is 216\n",
            "7 Cubed is 343\n",
            "8 Cubed is 512\n",
            "9 Cubed is 729\n",
            "10 Cubed is 1000\n"
          ]
        }
      ]
    },
    {
      "cell_type": "code",
      "source": [
        "# Q 5. State advantages and disadvantages of multithreading\n",
        "\"\"\"\n",
        "Advantages: Concurrency, Resource Utilization\n",
        "Disadvantages: complexity, Debugging and testing, Overhead, Compatibility\n",
        "\"\"\"\n"
      ],
      "metadata": {
        "id": "WRPWYq9_imsR"
      },
      "execution_count": null,
      "outputs": []
    },
    {
      "cell_type": "code",
      "source": [
        "# Q 6. Explain deadlocks and race conditions.\n",
        "\"\"\" A deadlock is a situation in which two or more threads or processes are unable to proceed with\n",
        "their execution because each is waiting for a resource held by the other(s).\n",
        "In Python, deadlocks can occur when threads or processes acquire locks in a way\n",
        " that creates a circular dependency.\"\"\"\n",
        "\n",
        "\"\"\" A race condition is a situation in which the behavior of a program depends on the relative timing of events,\n",
        "such as the order in which threads or processes are scheduled to run.\n",
        "Race conditions occur when multiple threads or processes access shared resources concurrently, and the outcome is unpredictable or undesirable.\"\"\"\n"
      ],
      "metadata": {
        "colab": {
          "base_uri": "https://localhost:8080/",
          "height": 53
        },
        "id": "vaz2SFkyjLjA",
        "outputId": "2eda3ce6-73a0-4db9-ca40-579a65dd8fef"
      },
      "execution_count": 3,
      "outputs": [
        {
          "output_type": "execute_result",
          "data": {
            "text/plain": [
              "' A race condition is a situation in which the behavior of a program depends on the relative timing of events, \\nsuch as the order in which threads or processes are scheduled to run. \\nRace conditions occur when multiple threads or processes access shared resources concurrently, and the outcome is unpredictable or undesirable.'"
            ],
            "application/vnd.google.colaboratory.intrinsic+json": {
              "type": "string"
            }
          },
          "metadata": {},
          "execution_count": 3
        }
      ]
    }
  ]
}