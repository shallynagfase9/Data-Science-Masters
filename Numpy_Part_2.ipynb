{
  "nbformat": 4,
  "nbformat_minor": 0,
  "metadata": {
    "colab": {
      "provenance": [],
      "authorship_tag": "ABX9TyNlM+JACxaaPXednj4Hwrvj",
      "include_colab_link": true
    },
    "kernelspec": {
      "name": "python3",
      "display_name": "Python 3"
    },
    "language_info": {
      "name": "python"
    }
  },
  "cells": [
    {
      "cell_type": "markdown",
      "metadata": {
        "id": "view-in-github",
        "colab_type": "text"
      },
      "source": [
        "<a href=\"https://colab.research.google.com/github/shallynagfase9/Python-for-Data-Science/blob/main/Numpy_Part_2.ipynb\" target=\"_parent\"><img src=\"https://colab.research.google.com/assets/colab-badge.svg\" alt=\"Open In Colab\"/></a>"
      ]
    },
    {
      "cell_type": "code",
      "execution_count": null,
      "metadata": {
        "id": "2p4Uv66Q9XKT"
      },
      "outputs": [],
      "source": [
        "import numpy as np\n"
      ]
    },
    {
      "cell_type": "code",
      "source": [
        "# Array Manipulation\n",
        "arr = np.random.randint(1,10, (4,4))\n",
        "arr"
      ],
      "metadata": {
        "colab": {
          "base_uri": "https://localhost:8080/"
        },
        "id": "gTKijDtt_Y5s",
        "outputId": "06fbe01c-2c51-4b8b-cae6-58b3ddf8c60e"
      },
      "execution_count": null,
      "outputs": [
        {
          "output_type": "execute_result",
          "data": {
            "text/plain": [
              "array([[7, 6, 9, 5],\n",
              "       [2, 7, 8, 7],\n",
              "       [9, 8, 6, 6],\n",
              "       [7, 5, 5, 9]])"
            ]
          },
          "metadata": {},
          "execution_count": 3
        }
      ]
    },
    {
      "cell_type": "code",
      "source": [
        "arr.reshape(8,2) # Changing dimensions"
      ],
      "metadata": {
        "colab": {
          "base_uri": "https://localhost:8080/"
        },
        "id": "6UpNoDUy_hKq",
        "outputId": "72c6614a-ea0a-4640-cd52-5d46bec414ac"
      },
      "execution_count": null,
      "outputs": [
        {
          "output_type": "execute_result",
          "data": {
            "text/plain": [
              "array([[7, 6],\n",
              "       [9, 5],\n",
              "       [2, 7],\n",
              "       [8, 7],\n",
              "       [9, 8],\n",
              "       [6, 6],\n",
              "       [7, 5],\n",
              "       [5, 9]])"
            ]
          },
          "metadata": {},
          "execution_count": 6
        }
      ]
    },
    {
      "cell_type": "code",
      "source": [
        "arr"
      ],
      "metadata": {
        "colab": {
          "base_uri": "https://localhost:8080/"
        },
        "id": "x5t219YV_3oV",
        "outputId": "5bd4c6d5-2e90-4cbd-cb1f-d8b8fe811f40"
      },
      "execution_count": null,
      "outputs": [
        {
          "output_type": "execute_result",
          "data": {
            "text/plain": [
              "array([[7, 6, 9, 5],\n",
              "       [2, 7, 8, 7],\n",
              "       [9, 8, 6, 6],\n",
              "       [7, 5, 5, 9]])"
            ]
          },
          "metadata": {},
          "execution_count": 7
        }
      ]
    },
    {
      "cell_type": "code",
      "source": [
        "arr.T     # Transpose of array\n"
      ],
      "metadata": {
        "colab": {
          "base_uri": "https://localhost:8080/"
        },
        "id": "IOLo5p9j_9Zb",
        "outputId": "14a8b840-75ec-4e3a-ebaf-685806e9910a"
      },
      "execution_count": null,
      "outputs": [
        {
          "output_type": "execute_result",
          "data": {
            "text/plain": [
              "array([[7, 2, 9, 7],\n",
              "       [6, 7, 8, 5],\n",
              "       [9, 8, 6, 5],\n",
              "       [5, 7, 6, 9]])"
            ]
          },
          "metadata": {},
          "execution_count": 8
        }
      ]
    },
    {
      "cell_type": "code",
      "source": [
        "arr.flatten()  # It,s going t put all kind of data in a 1-dimensional array"
      ],
      "metadata": {
        "colab": {
          "base_uri": "https://localhost:8080/"
        },
        "id": "XaUoh5dzACTz",
        "outputId": "1ee2431a-ce84-4222-f987-c7e4e45bed91"
      },
      "execution_count": null,
      "outputs": [
        {
          "output_type": "execute_result",
          "data": {
            "text/plain": [
              "array([7, 6, 9, 5, 2, 7, 8, 7, 9, 8, 6, 6, 7, 5, 5, 9])"
            ]
          },
          "metadata": {},
          "execution_count": 9
        }
      ]
    },
    {
      "cell_type": "code",
      "source": [
        "np.expand_dims(arr, axis=1) # we are able to get the expanded array using this method"
      ],
      "metadata": {
        "colab": {
          "base_uri": "https://localhost:8080/"
        },
        "id": "2ZD7zwSzAQdx",
        "outputId": "1a88b0c2-3fc9-4476-daea-582864479983"
      },
      "execution_count": null,
      "outputs": [
        {
          "output_type": "execute_result",
          "data": {
            "text/plain": [
              "array([[[7, 6, 9, 5]],\n",
              "\n",
              "       [[2, 7, 8, 7]],\n",
              "\n",
              "       [[9, 8, 6, 6]],\n",
              "\n",
              "       [[7, 5, 5, 9]]])"
            ]
          },
          "metadata": {},
          "execution_count": 11
        }
      ]
    },
    {
      "cell_type": "code",
      "source": [
        "np.expand_dims(arr, axis=0)"
      ],
      "metadata": {
        "colab": {
          "base_uri": "https://localhost:8080/"
        },
        "id": "WtRwQhmmAkQ5",
        "outputId": "3e6740e8-e279-484f-f118-5f5bbf1ebe36"
      },
      "execution_count": null,
      "outputs": [
        {
          "output_type": "execute_result",
          "data": {
            "text/plain": [
              "array([[[7, 6, 9, 5],\n",
              "        [2, 7, 8, 7],\n",
              "        [9, 8, 6, 6],\n",
              "        [7, 5, 5, 9]]])"
            ]
          },
          "metadata": {},
          "execution_count": 12
        }
      ]
    },
    {
      "cell_type": "code",
      "source": [
        "data = np.array([[1], [2], [3]])\n",
        "data"
      ],
      "metadata": {
        "colab": {
          "base_uri": "https://localhost:8080/"
        },
        "id": "tqiMCpfgAw6s",
        "outputId": "a78d6c99-13b4-40c3-96d5-5be2011618ce"
      },
      "execution_count": null,
      "outputs": [
        {
          "output_type": "execute_result",
          "data": {
            "text/plain": [
              "array([[1],\n",
              "       [2],\n",
              "       [3]])"
            ]
          },
          "metadata": {},
          "execution_count": 13
        }
      ]
    },
    {
      "cell_type": "code",
      "source": [
        "np.squeeze(data) # squeeze function is used to remove dimension in an array"
      ],
      "metadata": {
        "colab": {
          "base_uri": "https://localhost:8080/"
        },
        "id": "wneT8QLeBBEx",
        "outputId": "9d6f1f3a-6fc4-4571-e8a3-bebfce67445b"
      },
      "execution_count": null,
      "outputs": [
        {
          "output_type": "execute_result",
          "data": {
            "text/plain": [
              "array([1, 2, 3])"
            ]
          },
          "metadata": {},
          "execution_count": 15
        }
      ]
    },
    {
      "cell_type": "code",
      "source": [
        "np.repeat(data, 2) # Whatever data we have after using the repeat function we got the result in repeated form"
      ],
      "metadata": {
        "colab": {
          "base_uri": "https://localhost:8080/"
        },
        "id": "ZQkVjtkoBbgK",
        "outputId": "4899a156-7a45-4ba7-b5cf-9f71083a6fbb"
      },
      "execution_count": null,
      "outputs": [
        {
          "output_type": "execute_result",
          "data": {
            "text/plain": [
              "array([1, 1, 2, 2, 3, 3])"
            ]
          },
          "metadata": {},
          "execution_count": 16
        }
      ]
    },
    {
      "cell_type": "code",
      "source": [
        "np.repeat(data, 5)"
      ],
      "metadata": {
        "colab": {
          "base_uri": "https://localhost:8080/"
        },
        "id": "GPMzXLZABvgU",
        "outputId": "106b751b-66d7-4a35-d0ff-f13a69c8222c"
      },
      "execution_count": null,
      "outputs": [
        {
          "output_type": "execute_result",
          "data": {
            "text/plain": [
              "array([1, 1, 1, 1, 1, 2, 2, 2, 2, 2, 3, 3, 3, 3, 3])"
            ]
          },
          "metadata": {},
          "execution_count": 17
        }
      ]
    },
    {
      "cell_type": "code",
      "source": [
        "np.roll(data, 2) # roll function will rotate the data"
      ],
      "metadata": {
        "colab": {
          "base_uri": "https://localhost:8080/"
        },
        "id": "OFrs6t6IBxQB",
        "outputId": "a0830827-a14a-44ff-8030-2a7873775694"
      },
      "execution_count": null,
      "outputs": [
        {
          "output_type": "execute_result",
          "data": {
            "text/plain": [
              "array([[2],\n",
              "       [3],\n",
              "       [1]])"
            ]
          },
          "metadata": {},
          "execution_count": 18
        }
      ]
    },
    {
      "cell_type": "code",
      "source": [
        "np.diag(np.array([1,2,3,4]))"
      ],
      "metadata": {
        "colab": {
          "base_uri": "https://localhost:8080/"
        },
        "id": "OpvyieVTCK9r",
        "outputId": "8d1d3593-7b96-4c9a-eb98-d66a7363f7e5"
      },
      "execution_count": null,
      "outputs": [
        {
          "output_type": "execute_result",
          "data": {
            "text/plain": [
              "array([[1, 0, 0, 0],\n",
              "       [0, 2, 0, 0],\n",
              "       [0, 0, 3, 0],\n",
              "       [0, 0, 0, 4]])"
            ]
          },
          "metadata": {},
          "execution_count": 20
        }
      ]
    },
    {
      "cell_type": "code",
      "source": [
        "# Numpy - Binary Operators\n",
        "arr1 =np.random.randint(1,10, (3,4))\n",
        "arr2 =np.random.randint(1,10, (3,4))"
      ],
      "metadata": {
        "id": "vPKVRJDFCVUM"
      },
      "execution_count": null,
      "outputs": []
    },
    {
      "cell_type": "code",
      "source": [
        "arr1"
      ],
      "metadata": {
        "colab": {
          "base_uri": "https://localhost:8080/"
        },
        "id": "yvT0-j4_Cjv5",
        "outputId": "d7c276e6-781b-4074-a77d-beded18a20d0"
      },
      "execution_count": null,
      "outputs": [
        {
          "output_type": "execute_result",
          "data": {
            "text/plain": [
              "array([[9, 3, 6, 8],\n",
              "       [5, 2, 9, 2],\n",
              "       [2, 9, 6, 4]])"
            ]
          },
          "metadata": {},
          "execution_count": 22
        }
      ]
    },
    {
      "cell_type": "code",
      "source": [
        "arr2"
      ],
      "metadata": {
        "colab": {
          "base_uri": "https://localhost:8080/"
        },
        "id": "KG5kImu6Ckiz",
        "outputId": "795fe215-4b35-42a7-e647-60a0634e7a46"
      },
      "execution_count": null,
      "outputs": [
        {
          "output_type": "execute_result",
          "data": {
            "text/plain": [
              "array([[4, 6, 9, 4],\n",
              "       [7, 2, 4, 7],\n",
              "       [8, 8, 5, 3]])"
            ]
          },
          "metadata": {},
          "execution_count": 23
        }
      ]
    },
    {
      "cell_type": "code",
      "source": [
        "arr1+arr2"
      ],
      "metadata": {
        "colab": {
          "base_uri": "https://localhost:8080/"
        },
        "id": "h7AXkJFPCmLJ",
        "outputId": "59e83311-ad32-40dd-d3b3-0074630b1c93"
      },
      "execution_count": null,
      "outputs": [
        {
          "output_type": "execute_result",
          "data": {
            "text/plain": [
              "array([[13,  9, 15, 12],\n",
              "       [12,  4, 13,  9],\n",
              "       [10, 17, 11,  7]])"
            ]
          },
          "metadata": {},
          "execution_count": 24
        }
      ]
    },
    {
      "cell_type": "code",
      "source": [
        "arr1-arr2"
      ],
      "metadata": {
        "colab": {
          "base_uri": "https://localhost:8080/"
        },
        "id": "mb9FblULCxEa",
        "outputId": "a6bb8eaf-43c3-41ce-f22c-851d9e4af0a5"
      },
      "execution_count": null,
      "outputs": [
        {
          "output_type": "execute_result",
          "data": {
            "text/plain": [
              "array([[ 5, -3, -3,  4],\n",
              "       [-2,  0,  5, -5],\n",
              "       [-6,  1,  1,  1]])"
            ]
          },
          "metadata": {},
          "execution_count": 25
        }
      ]
    },
    {
      "cell_type": "code",
      "source": [
        "arr1**arr2\n"
      ],
      "metadata": {
        "colab": {
          "base_uri": "https://localhost:8080/"
        },
        "id": "vtsx88oqCySB",
        "outputId": "ccce5c9e-ea03-4b5e-fe93-5c2784677fd9"
      },
      "execution_count": null,
      "outputs": [
        {
          "output_type": "execute_result",
          "data": {
            "text/plain": [
              "array([[    6561,      729, 10077696,     4096],\n",
              "       [   78125,        4,     6561,      128],\n",
              "       [     256, 43046721,     7776,       64]])"
            ]
          },
          "metadata": {},
          "execution_count": 26
        }
      ]
    },
    {
      "cell_type": "code",
      "source": [
        "arr1/arr2"
      ],
      "metadata": {
        "colab": {
          "base_uri": "https://localhost:8080/"
        },
        "id": "6qINr9nuC0yS",
        "outputId": "2accf977-2bef-4f13-9912-6848dd4349a3"
      },
      "execution_count": null,
      "outputs": [
        {
          "output_type": "execute_result",
          "data": {
            "text/plain": [
              "array([[2.25      , 0.5       , 0.66666667, 2.        ],\n",
              "       [0.71428571, 1.        , 2.25      , 0.28571429],\n",
              "       [0.25      , 1.125     , 1.2       , 1.33333333]])"
            ]
          },
          "metadata": {},
          "execution_count": 27
        }
      ]
    },
    {
      "cell_type": "code",
      "source": [
        "arr1 * arr2"
      ],
      "metadata": {
        "colab": {
          "base_uri": "https://localhost:8080/"
        },
        "id": "LUWfQl0EC31D",
        "outputId": "17c1f152-0e0d-494f-d007-21eeabb3980c"
      },
      "execution_count": null,
      "outputs": [
        {
          "output_type": "execute_result",
          "data": {
            "text/plain": [
              "array([[36, 18, 54, 32],\n",
              "       [35,  4, 36, 14],\n",
              "       [16, 72, 30, 12]])"
            ]
          },
          "metadata": {},
          "execution_count": 29
        }
      ]
    },
    {
      "cell_type": "code",
      "source": [
        "~arr1"
      ],
      "metadata": {
        "colab": {
          "base_uri": "https://localhost:8080/"
        },
        "id": "kTCT2XLLDCCa",
        "outputId": "a54b33a4-4ba7-401a-af0b-5ff233ccfa28"
      },
      "execution_count": null,
      "outputs": [
        {
          "output_type": "execute_result",
          "data": {
            "text/plain": [
              "array([[-10,  -4,  -7,  -9],\n",
              "       [ -6,  -3, -10,  -3],\n",
              "       [ -3, -10,  -7,  -5]])"
            ]
          },
          "metadata": {},
          "execution_count": 30
        }
      ]
    },
    {
      "cell_type": "code",
      "source": [
        "arr1>arr2"
      ],
      "metadata": {
        "colab": {
          "base_uri": "https://localhost:8080/"
        },
        "id": "7gV4Iw5ZDK7b",
        "outputId": "7841eac0-2885-4a4b-adc2-db8edf5d7430"
      },
      "execution_count": null,
      "outputs": [
        {
          "output_type": "execute_result",
          "data": {
            "text/plain": [
              "array([[ True, False, False,  True],\n",
              "       [False, False,  True, False],\n",
              "       [False,  True,  True,  True]])"
            ]
          },
          "metadata": {},
          "execution_count": 31
        }
      ]
    },
    {
      "cell_type": "code",
      "source": [
        "# Numpy - String Operations (Functions)\n",
        "arr = np.array([\"shally\", \"harpreet\"])\n",
        "arr"
      ],
      "metadata": {
        "colab": {
          "base_uri": "https://localhost:8080/"
        },
        "id": "76PnvaT1DNno",
        "outputId": "12fbe49e-4897-4c73-f566-c27643290326"
      },
      "execution_count": null,
      "outputs": [
        {
          "output_type": "execute_result",
          "data": {
            "text/plain": [
              "array(['shally', 'harpreet'], dtype='<U8')"
            ]
          },
          "metadata": {},
          "execution_count": 32
        }
      ]
    },
    {
      "cell_type": "code",
      "source": [
        "np.char.upper(arr)"
      ],
      "metadata": {
        "colab": {
          "base_uri": "https://localhost:8080/"
        },
        "id": "2CUs4cO2DhWZ",
        "outputId": "ede721a2-23ec-4027-83f3-98413c1126d5"
      },
      "execution_count": null,
      "outputs": [
        {
          "output_type": "execute_result",
          "data": {
            "text/plain": [
              "array(['SHALLY', 'HARPREET'], dtype='<U8')"
            ]
          },
          "metadata": {},
          "execution_count": 34
        }
      ]
    },
    {
      "cell_type": "code",
      "source": [
        "np.char.capitalize(arr)"
      ],
      "metadata": {
        "colab": {
          "base_uri": "https://localhost:8080/"
        },
        "id": "dVdcVkC3DnJq",
        "outputId": "d6fdf274-bea6-49ff-e895-9ef9d20a09e9"
      },
      "execution_count": null,
      "outputs": [
        {
          "output_type": "execute_result",
          "data": {
            "text/plain": [
              "array(['Shally', 'Harpreet'], dtype='<U8')"
            ]
          },
          "metadata": {},
          "execution_count": 35
        }
      ]
    },
    {
      "cell_type": "code",
      "source": [
        "np.char.lower(arr)"
      ],
      "metadata": {
        "colab": {
          "base_uri": "https://localhost:8080/"
        },
        "id": "5lhMvAUXDu26",
        "outputId": "390fb83c-8e93-4e9d-cee3-b550fa818ce0"
      },
      "execution_count": null,
      "outputs": [
        {
          "output_type": "execute_result",
          "data": {
            "text/plain": [
              "array(['shally', 'harpreet'], dtype='<U8')"
            ]
          },
          "metadata": {},
          "execution_count": 36
        }
      ]
    },
    {
      "cell_type": "code",
      "source": [
        "np.char.title(arr)"
      ],
      "metadata": {
        "colab": {
          "base_uri": "https://localhost:8080/"
        },
        "id": "uozCAvcNDxoy",
        "outputId": "e042ea38-27fe-4186-be03-47d3d4673ebc"
      },
      "execution_count": null,
      "outputs": [
        {
          "output_type": "execute_result",
          "data": {
            "text/plain": [
              "array(['Shally', 'Harpreet'], dtype='<U8')"
            ]
          },
          "metadata": {},
          "execution_count": 37
        }
      ]
    },
    {
      "cell_type": "code",
      "source": [
        "# Numpy - Mathematical Functions\n",
        "arr1"
      ],
      "metadata": {
        "id": "6gRIFXafFGGj",
        "colab": {
          "base_uri": "https://localhost:8080/"
        },
        "outputId": "fb6d52aa-983f-4e52-fce2-7b92733be8e3"
      },
      "execution_count": 38,
      "outputs": [
        {
          "output_type": "execute_result",
          "data": {
            "text/plain": [
              "array([[9, 3, 6, 8],\n",
              "       [5, 2, 9, 2],\n",
              "       [2, 9, 6, 4]])"
            ]
          },
          "metadata": {},
          "execution_count": 38
        }
      ]
    },
    {
      "cell_type": "code",
      "source": [
        "np.sin(arr1)"
      ],
      "metadata": {
        "id": "V0w5D5wZFIlR",
        "colab": {
          "base_uri": "https://localhost:8080/"
        },
        "outputId": "c9ae95ad-3491-4155-92dc-4559cb06f1a8"
      },
      "execution_count": 39,
      "outputs": [
        {
          "output_type": "execute_result",
          "data": {
            "text/plain": [
              "array([[ 0.41211849,  0.14112001, -0.2794155 ,  0.98935825],\n",
              "       [-0.95892427,  0.90929743,  0.41211849,  0.90929743],\n",
              "       [ 0.90929743,  0.41211849, -0.2794155 , -0.7568025 ]])"
            ]
          },
          "metadata": {},
          "execution_count": 39
        }
      ]
    },
    {
      "cell_type": "code",
      "source": [
        "np.cos(arr2)"
      ],
      "metadata": {
        "id": "cd76X-D5FTtg",
        "colab": {
          "base_uri": "https://localhost:8080/"
        },
        "outputId": "45237441-82c2-4880-c068-06569072674d"
      },
      "execution_count": 40,
      "outputs": [
        {
          "output_type": "execute_result",
          "data": {
            "text/plain": [
              "array([[-0.65364362,  0.96017029, -0.91113026, -0.65364362],\n",
              "       [ 0.75390225, -0.41614684, -0.65364362,  0.75390225],\n",
              "       [-0.14550003, -0.14550003,  0.28366219, -0.9899925 ]])"
            ]
          },
          "metadata": {},
          "execution_count": 40
        }
      ]
    },
    {
      "cell_type": "code",
      "source": [
        "arr2"
      ],
      "metadata": {
        "id": "fOFhx0GZFYCU",
        "colab": {
          "base_uri": "https://localhost:8080/"
        },
        "outputId": "0a724fec-0f70-4686-8419-b1217f58fae2"
      },
      "execution_count": 41,
      "outputs": [
        {
          "output_type": "execute_result",
          "data": {
            "text/plain": [
              "array([[4, 6, 9, 4],\n",
              "       [7, 2, 4, 7],\n",
              "       [8, 8, 5, 3]])"
            ]
          },
          "metadata": {},
          "execution_count": 41
        }
      ]
    },
    {
      "cell_type": "code",
      "source": [
        "np.tan(arr1)"
      ],
      "metadata": {
        "id": "h5Pcz_AkFkCK",
        "colab": {
          "base_uri": "https://localhost:8080/"
        },
        "outputId": "cc89e552-23c0-45d2-eafb-213c6bad8baa"
      },
      "execution_count": 42,
      "outputs": [
        {
          "output_type": "execute_result",
          "data": {
            "text/plain": [
              "array([[-0.45231566, -0.14254654, -0.29100619, -6.79971146],\n",
              "       [-3.38051501, -2.18503986, -0.45231566, -2.18503986],\n",
              "       [-2.18503986, -0.45231566, -0.29100619,  1.15782128]])"
            ]
          },
          "metadata": {},
          "execution_count": 42
        }
      ]
    },
    {
      "cell_type": "code",
      "source": [
        "np.exp(arr1)"
      ],
      "metadata": {
        "id": "MizA3l6YFmpJ",
        "colab": {
          "base_uri": "https://localhost:8080/"
        },
        "outputId": "916fdfee-c003-4ba5-9f08-953103be10ad"
      },
      "execution_count": 43,
      "outputs": [
        {
          "output_type": "execute_result",
          "data": {
            "text/plain": [
              "array([[8.10308393e+03, 2.00855369e+01, 4.03428793e+02, 2.98095799e+03],\n",
              "       [1.48413159e+02, 7.38905610e+00, 8.10308393e+03, 7.38905610e+00],\n",
              "       [7.38905610e+00, 8.10308393e+03, 4.03428793e+02, 5.45981500e+01]])"
            ]
          },
          "metadata": {},
          "execution_count": 43
        }
      ]
    },
    {
      "cell_type": "code",
      "source": [
        "np.log10(arr1)"
      ],
      "metadata": {
        "id": "FKu3f3leFop5",
        "colab": {
          "base_uri": "https://localhost:8080/"
        },
        "outputId": "edc68f3f-465b-4e1b-d28c-6446a93c0b08"
      },
      "execution_count": 44,
      "outputs": [
        {
          "output_type": "execute_result",
          "data": {
            "text/plain": [
              "array([[0.95424251, 0.47712125, 0.77815125, 0.90308999],\n",
              "       [0.69897   , 0.30103   , 0.95424251, 0.30103   ],\n",
              "       [0.30103   , 0.95424251, 0.77815125, 0.60205999]])"
            ]
          },
          "metadata": {},
          "execution_count": 44
        }
      ]
    },
    {
      "cell_type": "code",
      "source": [
        "np.power(arr1, 2) # It will give power of every element in an array with power 2"
      ],
      "metadata": {
        "id": "NPROi375Fq1p",
        "colab": {
          "base_uri": "https://localhost:8080/"
        },
        "outputId": "625e3641-caa9-4c2c-9570-6692a757469c"
      },
      "execution_count": 45,
      "outputs": [
        {
          "output_type": "execute_result",
          "data": {
            "text/plain": [
              "array([[81,  9, 36, 64],\n",
              "       [25,  4, 81,  4],\n",
              "       [ 4, 81, 36, 16]])"
            ]
          },
          "metadata": {},
          "execution_count": 45
        }
      ]
    },
    {
      "cell_type": "code",
      "source": [
        "np.power(arr1, 3)"
      ],
      "metadata": {
        "colab": {
          "base_uri": "https://localhost:8080/"
        },
        "id": "hqmIUgZ7GDmZ",
        "outputId": "d806354f-de08-4c32-dc11-dd6e1e90105a"
      },
      "execution_count": 46,
      "outputs": [
        {
          "output_type": "execute_result",
          "data": {
            "text/plain": [
              "array([[729,  27, 216, 512],\n",
              "       [125,   8, 729,   8],\n",
              "       [  8, 729, 216,  64]])"
            ]
          },
          "metadata": {},
          "execution_count": 46
        }
      ]
    },
    {
      "cell_type": "code",
      "source": [
        "# numpy module has no attribute mode, for mode you need to import module statistics\n",
        "np.mean(arr1)"
      ],
      "metadata": {
        "colab": {
          "base_uri": "https://localhost:8080/"
        },
        "id": "TG29UfrvGFwI",
        "outputId": "08b915a8-6355-4e36-ef56-266d3150f150"
      },
      "execution_count": 47,
      "outputs": [
        {
          "output_type": "execute_result",
          "data": {
            "text/plain": [
              "5.416666666666667"
            ]
          },
          "metadata": {},
          "execution_count": 47
        }
      ]
    },
    {
      "cell_type": "code",
      "source": [
        "np.median(arr1)"
      ],
      "metadata": {
        "colab": {
          "base_uri": "https://localhost:8080/"
        },
        "id": "nEnbx7KFGXRf",
        "outputId": "40db9f03-db49-441a-db5f-971193dd05fc"
      },
      "execution_count": 48,
      "outputs": [
        {
          "output_type": "execute_result",
          "data": {
            "text/plain": [
              "5.5"
            ]
          },
          "metadata": {},
          "execution_count": 48
        }
      ]
    },
    {
      "cell_type": "code",
      "source": [
        "np.std(arr1)"
      ],
      "metadata": {
        "colab": {
          "base_uri": "https://localhost:8080/"
        },
        "id": "U-tFg_8eGZdI",
        "outputId": "08fa4dfa-f823-44cb-d029-d0f8d7328359"
      },
      "execution_count": 49,
      "outputs": [
        {
          "output_type": "execute_result",
          "data": {
            "text/plain": [
              "2.7220804951768454"
            ]
          },
          "metadata": {},
          "execution_count": 49
        }
      ]
    },
    {
      "cell_type": "code",
      "source": [
        "np.var(arr1)"
      ],
      "metadata": {
        "colab": {
          "base_uri": "https://localhost:8080/"
        },
        "id": "mH62pWLeGexm",
        "outputId": "fa302f8b-4245-4b95-93b4-a53c80fd7c73"
      },
      "execution_count": 50,
      "outputs": [
        {
          "output_type": "execute_result",
          "data": {
            "text/plain": [
              "7.4097222222222205"
            ]
          },
          "metadata": {},
          "execution_count": 50
        }
      ]
    },
    {
      "cell_type": "code",
      "source": [
        "np.min(arr1)"
      ],
      "metadata": {
        "colab": {
          "base_uri": "https://localhost:8080/"
        },
        "id": "_QRY6RBIGhz4",
        "outputId": "d13e049e-2faa-4b0e-a909-a564dd0c0e08"
      },
      "execution_count": 51,
      "outputs": [
        {
          "output_type": "execute_result",
          "data": {
            "text/plain": [
              "2"
            ]
          },
          "metadata": {},
          "execution_count": 51
        }
      ]
    },
    {
      "cell_type": "code",
      "source": [
        "np.max(arr1)"
      ],
      "metadata": {
        "colab": {
          "base_uri": "https://localhost:8080/"
        },
        "id": "0lZmgoBLGjdA",
        "outputId": "af049f33-f721-42e0-aad7-d2d76950c328"
      },
      "execution_count": 52,
      "outputs": [
        {
          "output_type": "execute_result",
          "data": {
            "text/plain": [
              "9"
            ]
          },
          "metadata": {},
          "execution_count": 52
        }
      ]
    },
    {
      "cell_type": "code",
      "source": [
        "# Numpy - Arithmetic Operations\n",
        "# There are two ways to perform arithmetic operations using numpy\n",
        "arr1\n"
      ],
      "metadata": {
        "colab": {
          "base_uri": "https://localhost:8080/"
        },
        "id": "5wa0bN3zGlSg",
        "outputId": "626b9f02-7153-46b4-b982-0ea8a29a319b"
      },
      "execution_count": 54,
      "outputs": [
        {
          "output_type": "execute_result",
          "data": {
            "text/plain": [
              "array([[9, 3, 6, 8],\n",
              "       [5, 2, 9, 2],\n",
              "       [2, 9, 6, 4]])"
            ]
          },
          "metadata": {},
          "execution_count": 54
        }
      ]
    },
    {
      "cell_type": "code",
      "source": [
        "arr2"
      ],
      "metadata": {
        "colab": {
          "base_uri": "https://localhost:8080/"
        },
        "id": "_cvh84xGG6u3",
        "outputId": "85310b7a-3dee-4cfc-8eb9-43edb5af35ae"
      },
      "execution_count": 55,
      "outputs": [
        {
          "output_type": "execute_result",
          "data": {
            "text/plain": [
              "array([[4, 6, 9, 4],\n",
              "       [7, 2, 4, 7],\n",
              "       [8, 8, 5, 3]])"
            ]
          },
          "metadata": {},
          "execution_count": 55
        }
      ]
    },
    {
      "cell_type": "code",
      "source": [
        "arr1 - arr2"
      ],
      "metadata": {
        "colab": {
          "base_uri": "https://localhost:8080/"
        },
        "id": "ODxfzCJcG7uv",
        "outputId": "70d1be48-4cd5-4c32-a600-879782c19889"
      },
      "execution_count": 56,
      "outputs": [
        {
          "output_type": "execute_result",
          "data": {
            "text/plain": [
              "array([[ 5, -3, -3,  4],\n",
              "       [-2,  0,  5, -5],\n",
              "       [-6,  1,  1,  1]])"
            ]
          },
          "metadata": {},
          "execution_count": 56
        }
      ]
    },
    {
      "cell_type": "code",
      "source": [
        "np.subtract(arr1, arr2)"
      ],
      "metadata": {
        "colab": {
          "base_uri": "https://localhost:8080/"
        },
        "id": "UYItC9-QG9Un",
        "outputId": "b8a96234-63bb-47eb-9279-b760eb8b5bfb"
      },
      "execution_count": 57,
      "outputs": [
        {
          "output_type": "execute_result",
          "data": {
            "text/plain": [
              "array([[ 5, -3, -3,  4],\n",
              "       [-2,  0,  5, -5],\n",
              "       [-6,  1,  1,  1]])"
            ]
          },
          "metadata": {},
          "execution_count": 57
        }
      ]
    },
    {
      "cell_type": "code",
      "source": [
        "np.add(arr1, arr2)"
      ],
      "metadata": {
        "colab": {
          "base_uri": "https://localhost:8080/"
        },
        "id": "xJvLjQNcHDNY",
        "outputId": "2dbc28d9-d8d6-4d74-bdd6-e976b608192f"
      },
      "execution_count": 58,
      "outputs": [
        {
          "output_type": "execute_result",
          "data": {
            "text/plain": [
              "array([[13,  9, 15, 12],\n",
              "       [12,  4, 13,  9],\n",
              "       [10, 17, 11,  7]])"
            ]
          },
          "metadata": {},
          "execution_count": 58
        }
      ]
    },
    {
      "cell_type": "code",
      "source": [
        "np.multiply(arr1, arr2)"
      ],
      "metadata": {
        "colab": {
          "base_uri": "https://localhost:8080/"
        },
        "id": "u7Fjz4hYHFp3",
        "outputId": "5bb99716-fefc-4731-c38b-eb8669e76805"
      },
      "execution_count": 59,
      "outputs": [
        {
          "output_type": "execute_result",
          "data": {
            "text/plain": [
              "array([[36, 18, 54, 32],\n",
              "       [35,  4, 36, 14],\n",
              "       [16, 72, 30, 12]])"
            ]
          },
          "metadata": {},
          "execution_count": 59
        }
      ]
    },
    {
      "cell_type": "code",
      "source": [
        "np.mod(arr1, arr2)"
      ],
      "metadata": {
        "colab": {
          "base_uri": "https://localhost:8080/"
        },
        "id": "MSqvwTRLHIij",
        "outputId": "7f4a2f01-8f0f-4dc1-ad7f-49412b0a22e9"
      },
      "execution_count": 61,
      "outputs": [
        {
          "output_type": "execute_result",
          "data": {
            "text/plain": [
              "array([[1, 3, 6, 0],\n",
              "       [5, 0, 1, 2],\n",
              "       [2, 1, 1, 1]])"
            ]
          },
          "metadata": {},
          "execution_count": 61
        }
      ]
    },
    {
      "cell_type": "code",
      "source": [
        "np.sqrt(arr1)"
      ],
      "metadata": {
        "colab": {
          "base_uri": "https://localhost:8080/"
        },
        "id": "u7uEWKj6HPdo",
        "outputId": "7e4cc19e-94f1-49a6-e4a4-8b3249424cac"
      },
      "execution_count": 63,
      "outputs": [
        {
          "output_type": "execute_result",
          "data": {
            "text/plain": [
              "array([[3.        , 1.73205081, 2.44948974, 2.82842712],\n",
              "       [2.23606798, 1.41421356, 3.        , 1.41421356],\n",
              "       [1.41421356, 3.        , 2.44948974, 2.        ]])"
            ]
          },
          "metadata": {},
          "execution_count": 63
        }
      ]
    },
    {
      "cell_type": "code",
      "source": [
        "np.power(arr1, arr2)"
      ],
      "metadata": {
        "colab": {
          "base_uri": "https://localhost:8080/"
        },
        "id": "zLlp5y8VHT-p",
        "outputId": "4e65b03a-5b4f-4bef-b714-2e6c1eb831bd"
      },
      "execution_count": 65,
      "outputs": [
        {
          "output_type": "execute_result",
          "data": {
            "text/plain": [
              "array([[    6561,      729, 10077696,     4096],\n",
              "       [   78125,        4,     6561,      128],\n",
              "       [     256, 43046721,     7776,       64]])"
            ]
          },
          "metadata": {},
          "execution_count": 65
        }
      ]
    },
    {
      "cell_type": "code",
      "source": [
        "# Numpy - Statistical functions\n",
        "arr1"
      ],
      "metadata": {
        "colab": {
          "base_uri": "https://localhost:8080/"
        },
        "id": "0By3HzxlHksY",
        "outputId": "32b52109-a69a-4485-c73d-575b7796657f"
      },
      "execution_count": 66,
      "outputs": [
        {
          "output_type": "execute_result",
          "data": {
            "text/plain": [
              "array([[9, 3, 6, 8],\n",
              "       [5, 2, 9, 2],\n",
              "       [2, 9, 6, 4]])"
            ]
          },
          "metadata": {},
          "execution_count": 66
        }
      ]
    },
    {
      "cell_type": "code",
      "source": [
        "np.mean(arr1)"
      ],
      "metadata": {
        "colab": {
          "base_uri": "https://localhost:8080/"
        },
        "id": "v1lftaNRHpYI",
        "outputId": "7bde0f22-3a3e-4243-c755-ce7130c0749b"
      },
      "execution_count": 67,
      "outputs": [
        {
          "output_type": "execute_result",
          "data": {
            "text/plain": [
              "5.416666666666667"
            ]
          },
          "metadata": {},
          "execution_count": 67
        }
      ]
    },
    {
      "cell_type": "code",
      "source": [
        "np.median(arr1)"
      ],
      "metadata": {
        "colab": {
          "base_uri": "https://localhost:8080/"
        },
        "id": "G5f6y4CNHq6R",
        "outputId": "1004ed7e-7636-4ec1-a829-55271f603b74"
      },
      "execution_count": 68,
      "outputs": [
        {
          "output_type": "execute_result",
          "data": {
            "text/plain": [
              "5.5"
            ]
          },
          "metadata": {},
          "execution_count": 68
        }
      ]
    },
    {
      "cell_type": "code",
      "source": [
        "np.std(arr1)"
      ],
      "metadata": {
        "colab": {
          "base_uri": "https://localhost:8080/"
        },
        "id": "K9WqPUNXHtWo",
        "outputId": "912301ae-1de2-4bfd-f40f-114462e05aca"
      },
      "execution_count": 69,
      "outputs": [
        {
          "output_type": "execute_result",
          "data": {
            "text/plain": [
              "2.7220804951768454"
            ]
          },
          "metadata": {},
          "execution_count": 69
        }
      ]
    },
    {
      "cell_type": "code",
      "source": [
        "np.var(arr1)"
      ],
      "metadata": {
        "colab": {
          "base_uri": "https://localhost:8080/"
        },
        "id": "Zwr_EfdpHu7o",
        "outputId": "5ed5933d-c205-443c-bd6f-a259c8047819"
      },
      "execution_count": 70,
      "outputs": [
        {
          "output_type": "execute_result",
          "data": {
            "text/plain": [
              "7.4097222222222205"
            ]
          },
          "metadata": {},
          "execution_count": 70
        }
      ]
    }
  ]
}