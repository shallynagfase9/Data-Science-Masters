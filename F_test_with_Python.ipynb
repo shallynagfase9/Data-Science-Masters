{
  "nbformat": 4,
  "nbformat_minor": 0,
  "metadata": {
    "colab": {
      "provenance": [],
      "authorship_tag": "ABX9TyPgv+QHvfRP7069l6kxE+uz",
      "include_colab_link": true
    },
    "kernelspec": {
      "name": "python3",
      "display_name": "Python 3"
    },
    "language_info": {
      "name": "python"
    }
  },
  "cells": [
    {
      "cell_type": "markdown",
      "metadata": {
        "id": "view-in-github",
        "colab_type": "text"
      },
      "source": [
        "<a href=\"https://colab.research.google.com/github/shallynagfase9/Data-Science-Masters/blob/main/F_test_with_Python.ipynb\" target=\"_parent\"><img src=\"https://colab.research.google.com/assets/colab-badge.svg\" alt=\"Open In Colab\"/></a>"
      ]
    },
    {
      "cell_type": "code",
      "execution_count": 3,
      "metadata": {
        "id": "L85j16NziK_e"
      },
      "outputs": [],
      "source": [
        "import numpy as np\n",
        "import scipy.stats as stat"
      ]
    },
    {
      "cell_type": "code",
      "source": [
        "# Evidence to say that the two population variances is not equal\n",
        "# Check: We come to a conclusion whether one worker is better than the other\n",
        "worker1 = [18,19,22,25,27,28,41,45,51,55]\n",
        "worker2 = [14,15,15,17,18,22,25,25,27,34]\n"
      ],
      "metadata": {
        "id": "yxD3jrR9itVV"
      },
      "execution_count": 4,
      "outputs": []
    },
    {
      "cell_type": "code",
      "source": [
        "# Calculate F test statistics\n",
        "f_test = np.var(worker1)/np.var(worker2)"
      ],
      "metadata": {
        "id": "iuVPhimSjNs8"
      },
      "execution_count": 5,
      "outputs": []
    },
    {
      "cell_type": "code",
      "source": [
        "f_test"
      ],
      "metadata": {
        "colab": {
          "base_uri": "https://localhost:8080/"
        },
        "id": "UZbzubNSjans",
        "outputId": "23ad4999-8640-42dd-b614-b18459860a40"
      },
      "execution_count": 6,
      "outputs": [
        {
          "output_type": "execute_result",
          "data": {
            "text/plain": [
              "4.387122002085506"
            ]
          },
          "metadata": {},
          "execution_count": 6
        }
      ]
    },
    {
      "cell_type": "code",
      "source": [
        "# Degree of freedom\n",
        "df1 = len(worker1)-1\n",
        "df2 = len(worker2)-1"
      ],
      "metadata": {
        "id": "zlpjNOa0jh7d"
      },
      "execution_count": 7,
      "outputs": []
    },
    {
      "cell_type": "code",
      "source": [
        "df1"
      ],
      "metadata": {
        "colab": {
          "base_uri": "https://localhost:8080/"
        },
        "id": "_qAKcpPbjpwa",
        "outputId": "45c669ad-5032-4e0c-a0ae-68946f88bbb4"
      },
      "execution_count": 8,
      "outputs": [
        {
          "output_type": "execute_result",
          "data": {
            "text/plain": [
              "9"
            ]
          },
          "metadata": {},
          "execution_count": 8
        }
      ]
    },
    {
      "cell_type": "code",
      "source": [
        "df2"
      ],
      "metadata": {
        "colab": {
          "base_uri": "https://localhost:8080/"
        },
        "id": "obuxu31BjsyT",
        "outputId": "09a57518-96ab-420c-883b-76728a4cf88c"
      },
      "execution_count": 9,
      "outputs": [
        {
          "output_type": "execute_result",
          "data": {
            "text/plain": [
              "9"
            ]
          },
          "metadata": {},
          "execution_count": 9
        }
      ]
    },
    {
      "cell_type": "code",
      "source": [
        "significance_val = 0.05"
      ],
      "metadata": {
        "id": "Na96Q91Ej2f5"
      },
      "execution_count": 10,
      "outputs": []
    },
    {
      "cell_type": "code",
      "source": [
        "critical_val = stat.f.ppf(q=1-significance_val,dfn=df1,dfd=df2)\n",
        "critical_val"
      ],
      "metadata": {
        "colab": {
          "base_uri": "https://localhost:8080/"
        },
        "id": "bGU7X0eXj5sw",
        "outputId": "ffa98766-eef6-4fc6-da5a-4ed0323a335e"
      },
      "execution_count": 12,
      "outputs": [
        {
          "output_type": "execute_result",
          "data": {
            "text/plain": [
              "3.178893104458269"
            ]
          },
          "metadata": {},
          "execution_count": 12
        }
      ]
    },
    {
      "cell_type": "code",
      "source": [
        "if f_test > critical_val:\n",
        "  print(\"We reject the nul hypothesis\")\n",
        "else:\n",
        "  print(\"We accept the nul hypothesis\")"
      ],
      "metadata": {
        "colab": {
          "base_uri": "https://localhost:8080/"
        },
        "id": "ueQMYpQRkRCg",
        "outputId": "c993baa4-0112-440c-8436-f09e5582a75c"
      },
      "execution_count": 13,
      "outputs": [
        {
          "output_type": "stream",
          "name": "stdout",
          "text": [
            "We reject the nul hypothesis\n"
          ]
        }
      ]
    }
  ]
}