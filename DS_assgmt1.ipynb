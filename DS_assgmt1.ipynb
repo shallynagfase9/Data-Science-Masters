{
  "nbformat": 4,
  "nbformat_minor": 0,
  "metadata": {
    "colab": {
      "provenance": [],
      "authorship_tag": "ABX9TyMASNSoAtfdAtigabhQM0L+",
      "include_colab_link": true
    },
    "kernelspec": {
      "name": "python3",
      "display_name": "Python 3"
    },
    "language_info": {
      "name": "python"
    }
  },
  "cells": [
    {
      "cell_type": "markdown",
      "metadata": {
        "id": "view-in-github",
        "colab_type": "text"
      },
      "source": [
        "<a href=\"https://colab.research.google.com/github/shallynagfase9/Data-Science-Masters/blob/main/DS_assgmt1.ipynb\" target=\"_parent\"><img src=\"https://colab.research.google.com/assets/colab-badge.svg\" alt=\"Open In Colab\"/></a>"
      ]
    },
    {
      "cell_type": "code",
      "execution_count": 1,
      "metadata": {
        "colab": {
          "base_uri": "https://localhost:8080/"
        },
        "id": "NkQ9fBmPJJxA",
        "outputId": "deccdf5b-c386-4595-b649-225b828738a2"
      },
      "outputs": [
        {
          "output_type": "stream",
          "name": "stdout",
          "text": [
            "The string is: Shally\n"
          ]
        }
      ],
      "source": [
        "# String\n",
        "string=\"Shally\"\n",
        "print(\"The string is:\",string)"
      ]
    },
    {
      "cell_type": "code",
      "source": [
        "# List\n",
        "list=[\"shally\",1,2,3,4,4.6,4+9j]\n",
        "print(\"The list is\",list)\n",
        "for i in list:\n",
        "  print(i)\n",
        ""
      ],
      "metadata": {
        "colab": {
          "base_uri": "https://localhost:8080/"
        },
        "id": "N8De_a7hJWKs",
        "outputId": "2faa88e9-5950-448c-c156-d166445b336b"
      },
      "execution_count": 2,
      "outputs": [
        {
          "output_type": "stream",
          "name": "stdout",
          "text": [
            "The list is ['shally', 1, 2, 3, 4, 4.6, (4+9j)]\n",
            "shally\n",
            "1\n",
            "2\n",
            "3\n",
            "4\n",
            "4.6\n",
            "(4+9j)\n"
          ]
        }
      ]
    },
    {
      "cell_type": "code",
      "source": [
        "# Float\n",
        "a = 4.5\n",
        "print(a)\n",
        "print(type(a))"
      ],
      "metadata": {
        "colab": {
          "base_uri": "https://localhost:8080/"
        },
        "id": "hA1Y83lEJZ4-",
        "outputId": "8aa29d53-2ba9-4c2c-f0e1-327ab465d826"
      },
      "execution_count": 3,
      "outputs": [
        {
          "output_type": "stream",
          "name": "stdout",
          "text": [
            "4.5\n",
            "<class 'float'>\n"
          ]
        }
      ]
    },
    {
      "cell_type": "code",
      "source": [
        "# Tuple\n",
        "t=(12,34,54,23,\"a\",\"b\")\n",
        "print(t)\n",
        "print(type(t))"
      ],
      "metadata": {
        "colab": {
          "base_uri": "https://localhost:8080/"
        },
        "id": "SDXuPQThJddQ",
        "outputId": "d2a76c37-f5cc-4565-d1fb-c469cc528da6"
      },
      "execution_count": 4,
      "outputs": [
        {
          "output_type": "stream",
          "name": "stdout",
          "text": [
            "(12, 34, 54, 23, 'a', 'b')\n",
            "<class 'tuple'>\n"
          ]
        }
      ]
    },
    {
      "cell_type": "code",
      "source": [
        "# Find the type of the variable\n",
        "var1 = ' '\n",
        "print(type(var1))\n",
        "var2 = '[ DS , ML , Python]'\n",
        "print(type(var2))\n",
        "var3 = [ 'DS' , 'ML' , 'Python' ]\n",
        "print(type(var3))\n",
        "var4 = 1\n",
        "print(type(var4))\n",
        ""
      ],
      "metadata": {
        "colab": {
          "base_uri": "https://localhost:8080/"
        },
        "id": "3fauXj76JfNW",
        "outputId": "f2e74ead-79de-4352-a5a5-93210dbfb3be"
      },
      "execution_count": 5,
      "outputs": [
        {
          "output_type": "stream",
          "name": "stdout",
          "text": [
            "<class 'str'>\n",
            "<class 'str'>\n",
            "<class 'list'>\n",
            "<class 'int'>\n"
          ]
        }
      ]
    },
    {
      "cell_type": "code",
      "source": [
        "# / (Division Operator) Displays Quotient\n",
        "a=10\n",
        "b=2\n",
        "c=a/b\n",
        "print(c)\n",
        ""
      ],
      "metadata": {
        "colab": {
          "base_uri": "https://localhost:8080/"
        },
        "id": "BU7CeHbPJmcB",
        "outputId": "4daaa074-6d63-4cce-e53a-b303d33ba874"
      },
      "execution_count": 6,
      "outputs": [
        {
          "output_type": "stream",
          "name": "stdout",
          "text": [
            "5.0\n"
          ]
        }
      ]
    },
    {
      "cell_type": "code",
      "source": [
        "# % (Module Operator) Displays Remainder\n",
        "a=10\n",
        "b=2\n",
        "c=a%b\n",
        "print(c)\n",
        ""
      ],
      "metadata": {
        "colab": {
          "base_uri": "https://localhost:8080/"
        },
        "id": "c3IAal_GJoLY",
        "outputId": "ac01a6db-fbc9-4d77-a93b-63fc0910b56e"
      },
      "execution_count": 7,
      "outputs": [
        {
          "output_type": "stream",
          "name": "stdout",
          "text": [
            "0\n"
          ]
        }
      ]
    },
    {
      "cell_type": "code",
      "source": [
        "# // (Floor Division used for Integer Dvision)\n",
        "a=15\n",
        "b=3\n",
        "c=a//b\n",
        "print(c)\n",
        ""
      ],
      "metadata": {
        "colab": {
          "base_uri": "https://localhost:8080/"
        },
        "id": "uoNbIOZsJr9G",
        "outputId": "bff5a6d5-3b87-4a26-edd7-de17af9e3905"
      },
      "execution_count": 8,
      "outputs": [
        {
          "output_type": "stream",
          "name": "stdout",
          "text": [
            "5\n"
          ]
        }
      ]
    },
    {
      "cell_type": "code",
      "source": [
        "# **(Power Operator)\n",
        "a=10\n",
        "b=3\n",
        "c=a**b\n",
        "print(c)\n",
        ""
      ],
      "metadata": {
        "colab": {
          "base_uri": "https://localhost:8080/"
        },
        "id": "pdi0ES4IJyUs",
        "outputId": "394c5cac-c5bc-4a79-c6c5-d3e43de39151"
      },
      "execution_count": 9,
      "outputs": [
        {
          "output_type": "stream",
          "name": "stdout",
          "text": [
            "1000\n"
          ]
        }
      ]
    },
    {
      "cell_type": "code",
      "source": [
        "# Create a list of length 10 of your choice containing multiple types of data. Using for loop print the element and its data type.\n",
        "list=[1,2,3.5,4,5,\"shally\",4+7j,6,7,8]\n",
        "for i in list:\n",
        "  print(i)\n",
        "  print(type(i))"
      ],
      "metadata": {
        "colab": {
          "base_uri": "https://localhost:8080/"
        },
        "id": "axQQ1TLBJ0JS",
        "outputId": "178b2fb1-b0b3-4d61-d883-90c082dd3ad7"
      },
      "execution_count": 10,
      "outputs": [
        {
          "output_type": "stream",
          "name": "stdout",
          "text": [
            "1\n",
            "<class 'int'>\n",
            "2\n",
            "<class 'int'>\n",
            "3.5\n",
            "<class 'float'>\n",
            "4\n",
            "<class 'int'>\n",
            "5\n",
            "<class 'int'>\n",
            "shally\n",
            "<class 'str'>\n",
            "(4+7j)\n",
            "<class 'complex'>\n",
            "6\n",
            "<class 'int'>\n",
            "7\n",
            "<class 'int'>\n",
            "8\n",
            "<class 'int'>\n"
          ]
        }
      ]
    },
    {
      "cell_type": "code",
      "source": [
        "#Using a while loop, verify if the number A is purely divisible by number B and if so then how many times it can be divisible.\n",
        "A = int(input(\"Enter the number A: \"))\n",
        "B = int(input(\"Enter the number B: \"))\n",
        "\n",
        "# Initialize a counter to keep track of divisions\n",
        "count = 0\n",
        "\n",
        "while A >= B:\n",
        "    A = A - B  # Subtract B from A\n",
        "    count += 1  # Increment the counter\n",
        "\n",
        "if count > 0:\n",
        "    print(f\"{B} is divisible by {A} {count} times.\")\n",
        "else:\n",
        "    print(f\"{B} is not divisible by {A}.\")"
      ],
      "metadata": {
        "colab": {
          "base_uri": "https://localhost:8080/"
        },
        "id": "kbc11-0mJ5N0",
        "outputId": "5adb2269-78ee-43b9-bd4d-388f6246ca6e"
      },
      "execution_count": 11,
      "outputs": [
        {
          "output_type": "stream",
          "name": "stdout",
          "text": [
            "Enter the number A: 24\n",
            "Enter the number B: 3\n",
            "3 is divisible by 0 8 times.\n"
          ]
        }
      ]
    },
    {
      "cell_type": "code",
      "source": [
        "#Create a list containing 25 int type data. Using for loop and if-else condition print if the element is divisible by 3 or not.\n",
        "list=[1,2,3,4,5,6,7,8,9,10,11,12,13,14,15,16,17,18,19,20,21,22,23,24,25]\n",
        "for i in list:\n",
        "  if(i % 3 == 0):\n",
        "    print(\"The element is divisible by 3\")\n",
        "  else:\n",
        "    print(\"The element is not divisible by 3\")"
      ],
      "metadata": {
        "colab": {
          "base_uri": "https://localhost:8080/"
        },
        "id": "8K9KM_P9KEHe",
        "outputId": "db5bd217-3b6e-45dc-9313-86b820e8d53c"
      },
      "execution_count": 12,
      "outputs": [
        {
          "output_type": "stream",
          "name": "stdout",
          "text": [
            "The element is not divisible by 3\n",
            "The element is not divisible by 3\n",
            "The element is divisible by 3\n",
            "The element is not divisible by 3\n",
            "The element is not divisible by 3\n",
            "The element is divisible by 3\n",
            "The element is not divisible by 3\n",
            "The element is not divisible by 3\n",
            "The element is divisible by 3\n",
            "The element is not divisible by 3\n",
            "The element is not divisible by 3\n",
            "The element is divisible by 3\n",
            "The element is not divisible by 3\n",
            "The element is not divisible by 3\n",
            "The element is divisible by 3\n",
            "The element is not divisible by 3\n",
            "The element is not divisible by 3\n",
            "The element is divisible by 3\n",
            "The element is not divisible by 3\n",
            "The element is not divisible by 3\n",
            "The element is divisible by 3\n",
            "The element is not divisible by 3\n",
            "The element is not divisible by 3\n",
            "The element is divisible by 3\n",
            "The element is not divisible by 3\n"
          ]
        }
      ]
    },
    {
      "cell_type": "code",
      "source": [
        "# What do you understand about mutable and immutable data types? Give examples for both showing this property.\n",
        "# Immutable data types cannot be modified\n",
        "# Example of Immutable Data types\n",
        "s=\"Shally\"\n",
        "y=\"Nagfase\"\n",
        "s=y\n",
        "print(s)\n",
        "print(y)\n",
        ""
      ],
      "metadata": {
        "colab": {
          "base_uri": "https://localhost:8080/"
        },
        "id": "szIKj1qGKNAv",
        "outputId": "bce0b8f3-1040-4a72-a7a1-dc5c27d23ac9"
      },
      "execution_count": 13,
      "outputs": [
        {
          "output_type": "stream",
          "name": "stdout",
          "text": [
            "Nagfase\n",
            "Nagfase\n"
          ]
        }
      ]
    },
    {
      "cell_type": "code",
      "source": [
        "# Example of mutable Data types\n",
        "# Mutable data types can be modified\n",
        "list=[1,2,3,4,\"shally\",5,6,7,8]\n",
        "print(list)\n",
        "list.append(9)\n",
        "print(list)\n",
        "list.remove(6)\n",
        "print(list)"
      ],
      "metadata": {
        "colab": {
          "base_uri": "https://localhost:8080/"
        },
        "id": "mCzTMAsOKOrR",
        "outputId": "cf11391b-ecd1-4090-c62d-872fab8fae56"
      },
      "execution_count": 14,
      "outputs": [
        {
          "output_type": "stream",
          "name": "stdout",
          "text": [
            "[1, 2, 3, 4, 'shally', 5, 6, 7, 8]\n",
            "[1, 2, 3, 4, 'shally', 5, 6, 7, 8, 9]\n",
            "[1, 2, 3, 4, 'shally', 5, 7, 8, 9]\n"
          ]
        }
      ]
    }
  ]
}