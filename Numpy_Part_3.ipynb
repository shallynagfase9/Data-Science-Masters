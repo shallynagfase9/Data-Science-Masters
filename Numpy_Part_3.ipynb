{
  "nbformat": 4,
  "nbformat_minor": 0,
  "metadata": {
    "colab": {
      "provenance": [],
      "authorship_tag": "ABX9TyN7Qnp9YIwELDO3cQNIPdXo",
      "include_colab_link": true
    },
    "kernelspec": {
      "name": "python3",
      "display_name": "Python 3"
    },
    "language_info": {
      "name": "python"
    }
  },
  "cells": [
    {
      "cell_type": "markdown",
      "metadata": {
        "id": "view-in-github",
        "colab_type": "text"
      },
      "source": [
        "<a href=\"https://colab.research.google.com/github/shallynagfase9/Python-for-Data-Science/blob/main/Numpy_Part_3.ipynb\" target=\"_parent\"><img src=\"https://colab.research.google.com/assets/colab-badge.svg\" alt=\"Open In Colab\"/></a>"
      ]
    },
    {
      "cell_type": "code",
      "execution_count": 1,
      "metadata": {
        "colab": {
          "base_uri": "https://localhost:8080/"
        },
        "id": "fisqMmBzIbOr",
        "outputId": "5b6d0432-31b7-4698-fd22-bd159aa4f709"
      },
      "outputs": [
        {
          "output_type": "execute_result",
          "data": {
            "text/plain": [
              "array([ 4,  2,  6,  8, 10,  9, 77, 56])"
            ]
          },
          "metadata": {},
          "execution_count": 1
        }
      ],
      "source": [
        "# Numpy - Search, sort and counting functions\n",
        "import numpy as np\n",
        "arr = np.array([4, 2, 6, 8, 10, 9, 77, 56])\n",
        "arr"
      ]
    },
    {
      "cell_type": "code",
      "source": [
        "np.sort(arr) # sort() function will sort the array in ascending order"
      ],
      "metadata": {
        "colab": {
          "base_uri": "https://localhost:8080/"
        },
        "id": "cCJKN7l4JSyy",
        "outputId": "93f9784a-24ea-4f48-9558-8e6dbf303c7a"
      },
      "execution_count": 2,
      "outputs": [
        {
          "output_type": "execute_result",
          "data": {
            "text/plain": [
              "array([ 2,  4,  6,  8,  9, 10, 56, 77])"
            ]
          },
          "metadata": {},
          "execution_count": 2
        }
      ]
    },
    {
      "cell_type": "code",
      "source": [
        "np.searchsorted(arr, 6)"
      ],
      "metadata": {
        "colab": {
          "base_uri": "https://localhost:8080/"
        },
        "id": "CV9UIY1gJgzQ",
        "outputId": "83edfffb-9927-4b0f-ced1-affc3885ecd8"
      },
      "execution_count": 4,
      "outputs": [
        {
          "output_type": "execute_result",
          "data": {
            "text/plain": [
              "2"
            ]
          },
          "metadata": {},
          "execution_count": 4
        }
      ]
    },
    {
      "cell_type": "code",
      "source": [
        "np.searchsorted(arr, 5)"
      ],
      "metadata": {
        "colab": {
          "base_uri": "https://localhost:8080/"
        },
        "id": "ygR3DbnvJVrm",
        "outputId": "7a4dbb1f-904c-4798-ceee-000fc4c3e4e3"
      },
      "execution_count": 5,
      "outputs": [
        {
          "output_type": "execute_result",
          "data": {
            "text/plain": [
              "2"
            ]
          },
          "metadata": {},
          "execution_count": 5
        }
      ]
    },
    {
      "cell_type": "code",
      "source": [
        "arr1 = np.array([0, 56,21,56,32,67,21,67,34,89])\n",
        "arr1"
      ],
      "metadata": {
        "colab": {
          "base_uri": "https://localhost:8080/"
        },
        "id": "5KyTeutiJs4i",
        "outputId": "b99c4f56-e4ce-4b80-92a7-9768bd04e9f5"
      },
      "execution_count": 9,
      "outputs": [
        {
          "output_type": "execute_result",
          "data": {
            "text/plain": [
              "array([ 0, 56, 21, 56, 32, 67, 21, 67, 34, 89])"
            ]
          },
          "metadata": {},
          "execution_count": 9
        }
      ]
    },
    {
      "cell_type": "code",
      "source": [
        "np.count_nonzero(arr1) # It will give the number of elements in an array"
      ],
      "metadata": {
        "colab": {
          "base_uri": "https://localhost:8080/"
        },
        "id": "NQUqYTI3J7h3",
        "outputId": "95299877-fc76-4ea7-cd3e-a9052ac900ad"
      },
      "execution_count": 10,
      "outputs": [
        {
          "output_type": "execute_result",
          "data": {
            "text/plain": [
              "9"
            ]
          },
          "metadata": {},
          "execution_count": 10
        }
      ]
    },
    {
      "cell_type": "code",
      "source": [
        "np.where(arr1>0) # It will give you the number of indices/indexes where data is greater than zero"
      ],
      "metadata": {
        "colab": {
          "base_uri": "https://localhost:8080/"
        },
        "id": "J7Ye2IypKIdO",
        "outputId": "264a5499-a3df-4abd-bd83-515956f7be6c"
      },
      "execution_count": 12,
      "outputs": [
        {
          "output_type": "execute_result",
          "data": {
            "text/plain": [
              "(array([1, 2, 3, 4, 5, 6, 7, 8, 9]),)"
            ]
          },
          "metadata": {},
          "execution_count": 12
        }
      ]
    },
    {
      "cell_type": "code",
      "source": [
        "np.extract(arr1>0, arr1) # It's going to extract the data where elemnts are greater than zero"
      ],
      "metadata": {
        "colab": {
          "base_uri": "https://localhost:8080/"
        },
        "id": "9do4lWdKJ-Sl",
        "outputId": "88e91a1a-5742-48a2-b34e-5c5e78f4ad83"
      },
      "execution_count": 13,
      "outputs": [
        {
          "output_type": "execute_result",
          "data": {
            "text/plain": [
              "array([56, 21, 56, 32, 67, 21, 67, 34, 89])"
            ]
          },
          "metadata": {},
          "execution_count": 13
        }
      ]
    },
    {
      "cell_type": "code",
      "source": [
        "# Numpy - Byte Swapping\n",
        "arr1"
      ],
      "metadata": {
        "colab": {
          "base_uri": "https://localhost:8080/"
        },
        "id": "Y2EIpD3KKzyi",
        "outputId": "c7486de2-e228-4812-be62-0caf468f769e"
      },
      "execution_count": 14,
      "outputs": [
        {
          "output_type": "execute_result",
          "data": {
            "text/plain": [
              "array([ 0, 56, 21, 56, 32, 67, 21, 67, 34, 89])"
            ]
          },
          "metadata": {},
          "execution_count": 14
        }
      ]
    },
    {
      "cell_type": "code",
      "source": [
        "arr1.byteswap() # For every data it will give you the byte representation"
      ],
      "metadata": {
        "colab": {
          "base_uri": "https://localhost:8080/"
        },
        "id": "5GXCowflK93e",
        "outputId": "1c07cb10-65f6-4a9a-aaa7-4ee08d8dc2f9"
      },
      "execution_count": 15,
      "outputs": [
        {
          "output_type": "execute_result",
          "data": {
            "text/plain": [
              "array([                  0, 4035225266123964416, 1513209474796486656,\n",
              "       4035225266123964416, 2305843009213693952, 4827858800541171712,\n",
              "       1513209474796486656, 4827858800541171712, 2449958197289549824,\n",
              "       6413125869375586304])"
            ]
          },
          "metadata": {},
          "execution_count": 15
        }
      ]
    },
    {
      "cell_type": "code",
      "source": [
        "arr1.byteswap(True)"
      ],
      "metadata": {
        "colab": {
          "base_uri": "https://localhost:8080/"
        },
        "id": "32ZrDcaeLLY2",
        "outputId": "3b4b926c-f63b-4719-fe6c-5725d6359485"
      },
      "execution_count": 16,
      "outputs": [
        {
          "output_type": "execute_result",
          "data": {
            "text/plain": [
              "array([                  0, 4035225266123964416, 1513209474796486656,\n",
              "       4035225266123964416, 2305843009213693952, 4827858800541171712,\n",
              "       1513209474796486656, 4827858800541171712, 2449958197289549824,\n",
              "       6413125869375586304])"
            ]
          },
          "metadata": {},
          "execution_count": 16
        }
      ]
    },
    {
      "cell_type": "code",
      "source": [
        "# Numpy - Copies and Views\n",
        "arr1"
      ],
      "metadata": {
        "colab": {
          "base_uri": "https://localhost:8080/"
        },
        "id": "5Z4p8fZ9LTGt",
        "outputId": "3e14cae7-417f-43d7-fe1e-b4f15e6bb2b1"
      },
      "execution_count": 17,
      "outputs": [
        {
          "output_type": "execute_result",
          "data": {
            "text/plain": [
              "array([                  0, 4035225266123964416, 1513209474796486656,\n",
              "       4035225266123964416, 2305843009213693952, 4827858800541171712,\n",
              "       1513209474796486656, 4827858800541171712, 2449958197289549824,\n",
              "       6413125869375586304])"
            ]
          },
          "metadata": {},
          "execution_count": 17
        }
      ]
    },
    {
      "cell_type": "code",
      "source": [
        "a = np.copy(arr1)\n",
        "a"
      ],
      "metadata": {
        "colab": {
          "base_uri": "https://localhost:8080/"
        },
        "id": "8m6fkwK_Lbrv",
        "outputId": "3d8d2244-e195-4680-a8c5-a31a1e125789"
      },
      "execution_count": 19,
      "outputs": [
        {
          "output_type": "execute_result",
          "data": {
            "text/plain": [
              "array([                  0, 4035225266123964416, 1513209474796486656,\n",
              "       4035225266123964416, 2305843009213693952, 4827858800541171712,\n",
              "       1513209474796486656, 4827858800541171712, 2449958197289549824,\n",
              "       6413125869375586304])"
            ]
          },
          "metadata": {},
          "execution_count": 19
        }
      ]
    },
    {
      "cell_type": "code",
      "source": [
        "a = np.copy(arr)\n",
        "a"
      ],
      "metadata": {
        "colab": {
          "base_uri": "https://localhost:8080/"
        },
        "id": "TmVjS5CQLg_u",
        "outputId": "c1c0f96f-7811-44b4-8b1f-73e93460541f"
      },
      "execution_count": 21,
      "outputs": [
        {
          "output_type": "execute_result",
          "data": {
            "text/plain": [
              "array([ 4,  2,  6,  8, 10,  9, 77, 56])"
            ]
          },
          "metadata": {},
          "execution_count": 21
        }
      ]
    },
    {
      "cell_type": "code",
      "source": [
        "b = arr.view()\n",
        "b"
      ],
      "metadata": {
        "colab": {
          "base_uri": "https://localhost:8080/"
        },
        "id": "k0Bfd1BOLwCh",
        "outputId": "14527392-00a6-4190-91cb-e7257e5d5b21"
      },
      "execution_count": 22,
      "outputs": [
        {
          "output_type": "execute_result",
          "data": {
            "text/plain": [
              "array([ 4,  2,  6,  8, 10,  9, 77, 56])"
            ]
          },
          "metadata": {},
          "execution_count": 22
        }
      ]
    },
    {
      "cell_type": "code",
      "source": [
        "b[0] = 34\n",
        "b"
      ],
      "metadata": {
        "colab": {
          "base_uri": "https://localhost:8080/"
        },
        "id": "4irDzrO9L2Wl",
        "outputId": "629537b5-a4ce-4e72-f1de-fb0a790b136e"
      },
      "execution_count": 24,
      "outputs": [
        {
          "output_type": "execute_result",
          "data": {
            "text/plain": [
              "array([34,  2,  6,  8, 10,  9, 77, 56])"
            ]
          },
          "metadata": {},
          "execution_count": 24
        }
      ]
    },
    {
      "cell_type": "code",
      "source": [
        "# Numpy - Matrix Library\n",
        "import numpy.matlib as nm"
      ],
      "metadata": {
        "id": "-SF1-T_jMH_m"
      },
      "execution_count": 25,
      "outputs": []
    },
    {
      "cell_type": "code",
      "source": [
        "nm.zeros(5)"
      ],
      "metadata": {
        "colab": {
          "base_uri": "https://localhost:8080/"
        },
        "id": "z8wKOyB7MPh1",
        "outputId": "f85b5284-ce2b-4a5f-f571-fc93846964fc"
      },
      "execution_count": 26,
      "outputs": [
        {
          "output_type": "execute_result",
          "data": {
            "text/plain": [
              "matrix([[0., 0., 0., 0., 0.]])"
            ]
          },
          "metadata": {},
          "execution_count": 26
        }
      ]
    },
    {
      "cell_type": "code",
      "source": [
        "nm.ones((3,4))"
      ],
      "metadata": {
        "colab": {
          "base_uri": "https://localhost:8080/"
        },
        "id": "XcEpDturMTQ2",
        "outputId": "4a90f3c5-f547-4c92-a775-ca32b57c601d"
      },
      "execution_count": 28,
      "outputs": [
        {
          "output_type": "execute_result",
          "data": {
            "text/plain": [
              "matrix([[1., 1., 1., 1.],\n",
              "        [1., 1., 1., 1.],\n",
              "        [1., 1., 1., 1.]])"
            ]
          },
          "metadata": {},
          "execution_count": 28
        }
      ]
    },
    {
      "cell_type": "code",
      "source": [
        "nm.eye(4)"
      ],
      "metadata": {
        "colab": {
          "base_uri": "https://localhost:8080/"
        },
        "id": "Wl7ry_77MbMY",
        "outputId": "58269da8-886f-432f-fef2-a25cf78b360f"
      },
      "execution_count": 29,
      "outputs": [
        {
          "output_type": "execute_result",
          "data": {
            "text/plain": [
              "matrix([[1., 0., 0., 0.],\n",
              "        [0., 1., 0., 0.],\n",
              "        [0., 0., 1., 0.],\n",
              "        [0., 0., 0., 1.]])"
            ]
          },
          "metadata": {},
          "execution_count": 29
        }
      ]
    },
    {
      "cell_type": "code",
      "source": [
        "# Numpy - Linear algebra\n",
        "arr1 = np.random.randint([[2,3], [4,5]])\n",
        "arr2 = np.random.randint([[5,3], [2,5]])"
      ],
      "metadata": {
        "id": "sXW8CB2fMdgO"
      },
      "execution_count": 40,
      "outputs": []
    },
    {
      "cell_type": "code",
      "source": [
        "arr1\n"
      ],
      "metadata": {
        "colab": {
          "base_uri": "https://localhost:8080/"
        },
        "id": "b1m4QSklNAJO",
        "outputId": "6e92a4e4-a7a6-478a-ce99-b8db44c18029"
      },
      "execution_count": 41,
      "outputs": [
        {
          "output_type": "execute_result",
          "data": {
            "text/plain": [
              "array([[1, 2],\n",
              "       [1, 2]])"
            ]
          },
          "metadata": {},
          "execution_count": 41
        }
      ]
    },
    {
      "cell_type": "code",
      "source": [
        "arr2"
      ],
      "metadata": {
        "colab": {
          "base_uri": "https://localhost:8080/"
        },
        "id": "WCkhbXEwNBul",
        "outputId": "edefc627-8b71-4173-9083-26d4d709c7b1"
      },
      "execution_count": 42,
      "outputs": [
        {
          "output_type": "execute_result",
          "data": {
            "text/plain": [
              "array([[4, 1],\n",
              "       [1, 4]])"
            ]
          },
          "metadata": {},
          "execution_count": 42
        }
      ]
    },
    {
      "cell_type": "code",
      "source": [
        "np.dot(arr1, arr2) # Dot product of arr1 and arr2"
      ],
      "metadata": {
        "colab": {
          "base_uri": "https://localhost:8080/"
        },
        "id": "bFJIWg6zN2Uz",
        "outputId": "64dea876-7448-4b2a-af87-637f644e02f4"
      },
      "execution_count": 43,
      "outputs": [
        {
          "output_type": "execute_result",
          "data": {
            "text/plain": [
              "array([[6, 9],\n",
              "       [6, 9]])"
            ]
          },
          "metadata": {},
          "execution_count": 43
        }
      ]
    },
    {
      "cell_type": "code",
      "source": [
        "arr1@arr2 # Matrix multiplications"
      ],
      "metadata": {
        "colab": {
          "base_uri": "https://localhost:8080/"
        },
        "id": "RAsPN0z8N6wk",
        "outputId": "a9007cca-078c-42a2-b872-c3dc4c6e9ae5"
      },
      "execution_count": 44,
      "outputs": [
        {
          "output_type": "execute_result",
          "data": {
            "text/plain": [
              "array([[6, 9],\n",
              "       [6, 9]])"
            ]
          },
          "metadata": {},
          "execution_count": 44
        }
      ]
    }
  ]
}