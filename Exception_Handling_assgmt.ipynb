{
  "nbformat": 4,
  "nbformat_minor": 0,
  "metadata": {
    "colab": {
      "provenance": [],
      "authorship_tag": "ABX9TyNCBi8vMfvBtfwWU48GCsLV",
      "include_colab_link": true
    },
    "kernelspec": {
      "name": "python3",
      "display_name": "Python 3"
    },
    "language_info": {
      "name": "python"
    }
  },
  "cells": [
    {
      "cell_type": "markdown",
      "metadata": {
        "id": "view-in-github",
        "colab_type": "text"
      },
      "source": [
        "<a href=\"https://colab.research.google.com/github/shallynagfase9/Data-Science-Masters/blob/main/Exception_Handling_assgmt.ipynb\" target=\"_parent\"><img src=\"https://colab.research.google.com/assets/colab-badge.svg\" alt=\"Open In Colab\"/></a>"
      ]
    },
    {
      "cell_type": "code",
      "execution_count": null,
      "metadata": {
        "id": "wnegWsmEzd7A"
      },
      "outputs": [],
      "source": [
        "# Q 1.What is an Exception in Python? Write the difference between Exceptions and Syntax Errors.\n",
        "\"\"\"An Exception is an error that happens during the execution of a program.\n",
        "Whenever there is an error, Python generates an exception that could be handled.\n",
        "It basically prevents the program from getting crashed.\"\"\"\n",
        "# Exceptions happen during runtime whereas, Errors happen during compile time like syntax errors; however it can happen at runtime as well.\n",
        "\n",
        "\n"
      ]
    },
    {
      "cell_type": "code",
      "source": [
        "# Q2. What happens when an exception is not handled? Explain with an example.\n",
        "# When an exception is not handled, the program can get crashed.\n",
        "# Example:\n",
        "try:\n",
        "  file = open(\"file.txt\",\"r\")\n",
        "except ZeroDivisionError:\n",
        "  print(\"This will not get executed because it's the wrong type exception\") # The program will get crashed\n",
        "\n"
      ],
      "metadata": {
        "colab": {
          "base_uri": "https://localhost:8080/",
          "height": 245
        },
        "id": "fzXcFuq-1SQG",
        "outputId": "3b76618c-1187-4e79-bdbb-f169cf4e00ca"
      },
      "execution_count": null,
      "outputs": [
        {
          "output_type": "error",
          "ename": "FileNotFoundError",
          "evalue": "ignored",
          "traceback": [
            "\u001b[0;31m---------------------------------------------------------------------------\u001b[0m",
            "\u001b[0;31mFileNotFoundError\u001b[0m                         Traceback (most recent call last)",
            "\u001b[0;32m<ipython-input-1-bf6a772baf95>\u001b[0m in \u001b[0;36m<cell line: 4>\u001b[0;34m()\u001b[0m\n\u001b[1;32m      3\u001b[0m \u001b[0;31m# Example:\u001b[0m\u001b[0;34m\u001b[0m\u001b[0;34m\u001b[0m\u001b[0m\n\u001b[1;32m      4\u001b[0m \u001b[0;32mtry\u001b[0m\u001b[0;34m:\u001b[0m\u001b[0;34m\u001b[0m\u001b[0;34m\u001b[0m\u001b[0m\n\u001b[0;32m----> 5\u001b[0;31m   \u001b[0mfile\u001b[0m \u001b[0;34m=\u001b[0m \u001b[0mopen\u001b[0m\u001b[0;34m(\u001b[0m\u001b[0;34m\"file.txt\"\u001b[0m\u001b[0;34m,\u001b[0m\u001b[0;34m\"r\"\u001b[0m\u001b[0;34m)\u001b[0m\u001b[0;34m\u001b[0m\u001b[0;34m\u001b[0m\u001b[0m\n\u001b[0m\u001b[1;32m      6\u001b[0m \u001b[0;32mexcept\u001b[0m \u001b[0mZeroDivisionError\u001b[0m\u001b[0;34m:\u001b[0m\u001b[0;34m\u001b[0m\u001b[0;34m\u001b[0m\u001b[0m\n\u001b[1;32m      7\u001b[0m   \u001b[0mprint\u001b[0m\u001b[0;34m(\u001b[0m\u001b[0;34m\"This will not get executed because it's the wrong type exception\"\u001b[0m\u001b[0;34m)\u001b[0m\u001b[0;34m\u001b[0m\u001b[0;34m\u001b[0m\u001b[0m\n",
            "\u001b[0;31mFileNotFoundError\u001b[0m: [Errno 2] No such file or directory: 'file.txt'"
          ]
        }
      ]
    },
    {
      "cell_type": "code",
      "source": [
        "# Q3. Which Python statements are used to catch and handle exceptions.  Explain with an example.\n",
        "# try and except statements are used to catch and handle exceptions.\n",
        "# Example:\n",
        "try:\n",
        "  x = 10/0\n",
        "except ZeroDivisionError:\n",
        "  print(\"Error: Divisor cannot be zero.\")\n",
        "\n"
      ],
      "metadata": {
        "colab": {
          "base_uri": "https://localhost:8080/"
        },
        "id": "c2WKz7sV2p1c",
        "outputId": "0b4d3854-6fec-4827-c7cd-944cf69cca4c"
      },
      "execution_count": null,
      "outputs": [
        {
          "output_type": "stream",
          "name": "stdout",
          "text": [
            "Error: Divisor cannot be zero.\n"
          ]
        }
      ]
    },
    {
      "cell_type": "code",
      "source": [
        "# Q4. Explain with an Example:\n",
        "# a. try and else\n",
        "# b. finally\n",
        "# c. raise\n",
        "# Example1:\n",
        "try:\n",
        "  num1 = 24\n",
        "  num2 = 0\n",
        "  x = num1/num2\n",
        "except ZeroDivisionError:\n",
        "  print(\"Denominator cannot be Zero\")\n",
        "finally:\n",
        "  print(\"The code has been executed with an Exception.\")\n",
        "\n",
        "# Example2:\n",
        "def divide(num1,num2):\n",
        "  if num2 == 0:\n",
        "    raise ZeroDivisionError(\"Denominator cannot be Zero\")\n",
        "  return(num1/num2)\n",
        "try:\n",
        "  resut = divide(26/0)\n",
        "except Exception as e:\n",
        "  print(\"Error: ZeroDivisionError\")"
      ],
      "metadata": {
        "colab": {
          "base_uri": "https://localhost:8080/"
        },
        "id": "CfM2c3YC3iKy",
        "outputId": "8cbbcd49-8fd8-44b2-cd88-31019a002178"
      },
      "execution_count": null,
      "outputs": [
        {
          "output_type": "stream",
          "name": "stdout",
          "text": [
            "Denominator cannot be Zero\n",
            "The code has been executed with an Exception.\n",
            "Error: ZeroDivisionError\n"
          ]
        }
      ]
    },
    {
      "cell_type": "code",
      "source": [
        "# Q5. What are custom Exceptions in Python? Why do we need custom Exceptions. Explain with an Example.\n",
        "# Custom Exceptions are user-defined exceptions that you create yourself to speicfy error conditions into your code.\n",
        "# Custom exceptions are used to customize the exception according to user needs.\n",
        "# Example:\n",
        "class CustomException(Exception):\n",
        "    def __init__(self, message):\n",
        "        super().__init__(message)\n",
        "\n",
        "def divide(a, b):\n",
        "    if b == 0:\n",
        "        raise CustomException(\"Division by zero is not allowed.\")\n",
        "    return a / b\n",
        "\n",
        "try:\n",
        "    result = divide(46, 0)\n",
        "except CustomException as e:\n",
        "    print(f\"An error occurred: {e}\")\n",
        "else:\n",
        "    print(f\"Result: {result}\")\n",
        "\n",
        "\n",
        "\n"
      ],
      "metadata": {
        "id": "2MEnfve37mUp",
        "colab": {
          "base_uri": "https://localhost:8080/"
        },
        "outputId": "44b837e9-f5db-4c3d-d3b5-e4d45809f0db"
      },
      "execution_count": 6,
      "outputs": [
        {
          "output_type": "stream",
          "name": "stdout",
          "text": [
            "An error occurred: Division by zero is not allowed.\n"
          ]
        }
      ]
    },
    {
      "cell_type": "code",
      "source": [
        "# Q6. Create a custom Exception class. Use this class to handle an exception.\n",
        "class CustomException(Exception):\n",
        "    def __init__(self, message):\n",
        "        super().__init__(message)\n",
        "\n",
        "def divide(a, b):\n",
        "    if b == 0:\n",
        "        raise CustomException(\"Division by 0 is not allowed.\")\n",
        "    return a / b\n",
        "\n",
        "try:\n",
        "    result = divide(46, 0)\n",
        "except CustomException as e:\n",
        "    print(f\"An error occurred: {e}\")\n",
        "else:\n",
        "    print(f\"Result: {result}\")\n"
      ],
      "metadata": {
        "colab": {
          "base_uri": "https://localhost:8080/"
        },
        "id": "ITWqAhd-A3q0",
        "outputId": "be62c745-3ad2-421a-a7e4-5092e1a070cb"
      },
      "execution_count": 8,
      "outputs": [
        {
          "output_type": "stream",
          "name": "stdout",
          "text": [
            "An error occurred: Division by 0 is not allowed.\n"
          ]
        }
      ]
    }
  ]
}