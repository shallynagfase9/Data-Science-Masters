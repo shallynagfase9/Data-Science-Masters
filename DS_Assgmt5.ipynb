{
  "nbformat": 4,
  "nbformat_minor": 0,
  "metadata": {
    "colab": {
      "provenance": [],
      "authorship_tag": "ABX9TyMMIzxH82MhZ+/XvnTWlZ/J",
      "include_colab_link": true
    },
    "kernelspec": {
      "name": "python3",
      "display_name": "Python 3"
    },
    "language_info": {
      "name": "python"
    }
  },
  "cells": [
    {
      "cell_type": "markdown",
      "metadata": {
        "id": "view-in-github",
        "colab_type": "text"
      },
      "source": [
        "<a href=\"https://colab.research.google.com/github/shallynagfase9/Data-Science-Masters/blob/main/DS_Assgmt5.ipynb\" target=\"_parent\"><img src=\"https://colab.research.google.com/assets/colab-badge.svg\" alt=\"Open In Colab\"/></a>"
      ]
    },
    {
      "cell_type": "code",
      "execution_count": 10,
      "metadata": {
        "colab": {
          "base_uri": "https://localhost:8080/"
        },
        "id": "Pz7fRKfp2qH_",
        "outputId": "f76edc7e-0451-4f26-85f0-485b16251494"
      },
      "outputs": [
        {
          "output_type": "stream",
          "name": "stdout",
          "text": [
            "shally\n",
            "shally@gmail.com\n",
            "('shally', 'shally@gmail.com')\n"
          ]
        }
      ],
      "source": [
        "# Q1. Explain Class and Object with respect to Object-Oriented Programming. Give a suitable example.\n",
        "# A class is a blueprint for individual objects.\n",
        "# An object is simple a collection od data or an instance of class.\n",
        "class pwskills:\n",
        "  def __init__(self, name, gmail):\n",
        "    self.name = name\n",
        "    self.gmail = gmail\n",
        "\n",
        "  def student_details(self):\n",
        "    return self.name, self.gmail\n",
        "pw = pwskills(\"shally\",\"shally@gmail.com\")\n",
        "print(pw.name)\n",
        "print(pw.gmail)\n",
        "print(pw.student_details())"
      ]
    },
    {
      "cell_type": "code",
      "source": [
        "# Q2. Name the four pillars of OOPs.\n",
        "# Polymorphism\n",
        "# Encapsulation\n",
        "# Inheritance\n",
        "# Abstraction"
      ],
      "metadata": {
        "id": "q2ApEsiW5XZL"
      },
      "execution_count": null,
      "outputs": []
    },
    {
      "cell_type": "code",
      "source": [
        "# Q3. Explain why the __init__() function is used. Give a suitable example.\n",
        "# __init__() function is a built-in function which is used to take data inside it.\n",
        "class test:\n",
        "  def __init__(self, name, age, gender):\n",
        "    self.name = name\n",
        "    self.age = age\n",
        "    self.gender = gender\n",
        "\n",
        "  def individual_details(self):\n",
        "    return self.name, self.age, self.gender\n",
        "shally = test(\"shally\", 20, \"Female\")\n",
        "print(shally.name)\n",
        "print(shally.age)\n",
        "print(shally.individual_details())\n"
      ],
      "metadata": {
        "colab": {
          "base_uri": "https://localhost:8080/"
        },
        "id": "1e-a6FCZ5jhZ",
        "outputId": "5352e14f-7c53-4fd2-fae2-b2e18118251a"
      },
      "execution_count": 13,
      "outputs": [
        {
          "output_type": "stream",
          "name": "stdout",
          "text": [
            "shally\n",
            "20\n",
            "('shally', 20, 'Female')\n"
          ]
        }
      ]
    },
    {
      "cell_type": "code",
      "source": [
        "# Q4. Why self is used in OOPs?\n",
        "# self is used as a reference for the current instance in the code. We can use another reference too. But using self is a good practice."
      ],
      "metadata": {
        "id": "0YUFJ-Ac6aTb"
      },
      "execution_count": null,
      "outputs": []
    },
    {
      "cell_type": "code",
      "source": [
        "# Q5. What is inheritance? Give an example for each type of inheritance.\n",
        "# When one class inherits the properties of another class that's called as inheritance. Inheritance is also helpful in code reusability.\n",
        "class parent:\n",
        "  def class1(self):\n",
        "    print(\"My name is Sunita.\")\n",
        "\n",
        "class child(parent):\n",
        "  def class2(self):\n",
        "    print(\"Child name is Shally.\")\n",
        "\n",
        "test_obj = parent()\n",
        "print(test_obj.class1())"
      ],
      "metadata": {
        "colab": {
          "base_uri": "https://localhost:8080/"
        },
        "id": "f_798Bdz6qYf",
        "outputId": "faf4fe3b-7dae-483b-80fc-3fd7715ee6f7"
      },
      "execution_count": 21,
      "outputs": [
        {
          "output_type": "stream",
          "name": "stdout",
          "text": [
            "My name is Sunita.\n",
            "None\n"
          ]
        }
      ]
    },
    {
      "cell_type": "code",
      "source": [],
      "metadata": {
        "id": "OFQFAgw58h-6"
      },
      "execution_count": null,
      "outputs": []
    }
  ]
}