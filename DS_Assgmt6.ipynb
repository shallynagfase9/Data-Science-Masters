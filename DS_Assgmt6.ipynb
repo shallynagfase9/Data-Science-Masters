{
  "nbformat": 4,
  "nbformat_minor": 0,
  "metadata": {
    "colab": {
      "provenance": [],
      "authorship_tag": "ABX9TyMj83M6TAdLTabiMG1mFQC/",
      "include_colab_link": true
    },
    "kernelspec": {
      "name": "python3",
      "display_name": "Python 3"
    },
    "language_info": {
      "name": "python"
    }
  },
  "cells": [
    {
      "cell_type": "markdown",
      "metadata": {
        "id": "view-in-github",
        "colab_type": "text"
      },
      "source": [
        "<a href=\"https://colab.research.google.com/github/shallynagfase9/Data-Science-Masters/blob/main/DS_Assgmt6.ipynb\" target=\"_parent\"><img src=\"https://colab.research.google.com/assets/colab-badge.svg\" alt=\"Open In Colab\"/></a>"
      ]
    },
    {
      "cell_type": "code",
      "execution_count": 2,
      "metadata": {
        "colab": {
          "base_uri": "https://localhost:8080/"
        },
        "id": "rbs3Um-H9rdH",
        "outputId": "49553a50-2fca-4889-ec12-5da543cb55cc"
      },
      "outputs": [
        {
          "output_type": "stream",
          "name": "stdout",
          "text": [
            "('Activa 6G', 100, '48 kmph')\n"
          ]
        }
      ],
      "source": [
        "\"\"\" Q1. Create a vehicle class with an init method having instance variables as name_of_vehicle, max_speed\n",
        "and average_of_vehicle. \"\"\"\n",
        "class vehicle:\n",
        "  def __init__(self, name_of_vehicle, max_speed, average_of_vehicle):\n",
        "    self.name_of_vehicle = name_of_vehicle\n",
        "    self.max_speed = max_speed\n",
        "    self.average_of_vehicle = average_of_vehicle\n",
        "\n",
        "  def return_vehicle_details(self):\n",
        "    return self.name_of_vehicle, self.max_speed, self.average_of_vehicle\n",
        "\n",
        "shally = vehicle(\"Activa 6G\", 100, \"48 kmph\")\n",
        "print(shally.return_vehicle_details())"
      ]
    },
    {
      "cell_type": "code",
      "source": [
        "\"\"\" Q2. Create a child class car from the vehicle class created in Que 1, which will inherit the vehicle class.\n",
        "Create a method named seating_capacity which takes capacity as an argument and returns the name of\n",
        "the vehicle and its seating capacity. \"\"\"\n",
        "class vehicle1:\n",
        "  def __init__(self, name_of_vehicle, max_speed):\n",
        "    self.name_of_vehicle = name_of_vehicle\n",
        "    self.max_speed = max_speed\n",
        "\n",
        "  def return_vehicle_details(self):\n",
        "    print(f\"Vehicle Name: {self.name_of_vehicle} and maximum speed is {self.max_speed}\")\n",
        "\n",
        "class child(vehicle1):\n",
        "  def __init__(self, name_of_vehicle, max_speed):\n",
        "    super(). __init__(name_of_vehicle, max_speed)\n",
        "\n",
        "  def seating_capacity(self, capacity):\n",
        "    return f\"Name of the Vehicle is {self.name_of_vehicle} and capacity of vehicle is {capacity}\"\n",
        "\n",
        "\n",
        "test = child(\"Activa 6G\", 100)\n",
        "print(test.return_vehicle_details())\n",
        "print(test.seating_capacity(5))\n"
      ],
      "metadata": {
        "colab": {
          "base_uri": "https://localhost:8080/"
        },
        "id": "koOXhiyB_IEZ",
        "outputId": "267e8477-f5cf-4629-d734-11250faf66de"
      },
      "execution_count": 16,
      "outputs": [
        {
          "output_type": "stream",
          "name": "stdout",
          "text": [
            "Vehicle Name: Activa 6G and maximum speed is 100\n",
            "None\n",
            "Name of the Vehicle is Activa 6G and capacity of vehicle is 5\n"
          ]
        }
      ]
    },
    {
      "cell_type": "code",
      "source": [
        "# Q3. What is multiple inheritance? Write a python code to demonstrate multiple inheritance.\n",
        "# A class can be derived from more than one superclass in Python.\n",
        "class test:\n",
        "  def class1(self):\n",
        "    print(\"This is my class 1.\")\n",
        "class test1(test):\n",
        "  def class2(self):\n",
        "    print(\"This is my class 2.\")\n",
        "class test2(test1):\n",
        "  def class3(self):\n",
        "    print(\"This is my class 3.\")\n",
        "\n",
        "t = test2()\n",
        "print(t.class3())\n",
        "print(t.class2())\n",
        "print(t.class1())\n",
        "\n",
        ""
      ],
      "metadata": {
        "colab": {
          "base_uri": "https://localhost:8080/"
        },
        "id": "ry4Hg9t9FLg1",
        "outputId": "23fdca16-7e7e-49bd-d099-b166b25d6ef9"
      },
      "execution_count": 21,
      "outputs": [
        {
          "output_type": "stream",
          "name": "stdout",
          "text": [
            "This is my class 3.\n",
            "None\n",
            "This is my class 2.\n",
            "None\n",
            "This is my class 1.\n",
            "None\n"
          ]
        }
      ]
    },
    {
      "cell_type": "code",
      "source": [
        "# Q4. What are getter and setter in python? Create a class and create a getter and a setter method in this class.\n",
        "# Getter: A method that allows you to access an attribute in a class.\n",
        "# Setter: A method that allows you to set an attribute in a class.\n",
        "class pwskills1:\n",
        "    def __init__(self, course_price, course_name):\n",
        "        self.__course_price = course_price\n",
        "        self.course_name = course_name\n",
        "\n",
        "    @property\n",
        "    def course_price_access(self):\n",
        "        return self.__course_price\n",
        "\n",
        "    @course_price_access.setter\n",
        "    def course_price_set(self, price):\n",
        "        if price < 3500:\n",
        "            pass\n",
        "        else:\n",
        "            self.__course_price = price\n",
        "\n",
        "    @course_price_access.getter\n",
        "    def course_price_access(self):\n",
        "        return self.__course_price\n",
        "\n",
        "pw = pwskills1(45000, \"Data science\")\n",
        "\n",
        "print(pw._pwskills1__course_price)\n"
      ],
      "metadata": {
        "colab": {
          "base_uri": "https://localhost:8080/"
        },
        "id": "FPVv1iz1Kwzx",
        "outputId": "9d53dd2f-0bf7-4686-9779-33a071efe8e8"
      },
      "execution_count": 29,
      "outputs": [
        {
          "output_type": "stream",
          "name": "stdout",
          "text": [
            "45000\n"
          ]
        }
      ]
    },
    {
      "cell_type": "code",
      "source": [
        "# Q5.What is method overriding in python? Write a python code to demonstrate method overriding.\n",
        "# Method overriding in Python is when you have two methods with the same name that each perform different tasks.\n",
        "class Animal:\n",
        "  def speak(self):\n",
        "    print(\"Animal speaks\")\n",
        "\n",
        "class Dog(Animal):\n",
        "  def speak(self):\n",
        "    print(\"Dog barks\")\n",
        "\n",
        "class Cat(Animal):\n",
        "  def speak(self):\n",
        "    print(\"Cat meows\")\n",
        "\n",
        "animal = Animal()\n",
        "dog = Dog()\n",
        "cat = Cat()\n",
        "\n",
        "print(cat.speak())\n",
        "print(dog.speak())\n",
        "print(animal.speak())\n",
        "\n"
      ],
      "metadata": {
        "colab": {
          "base_uri": "https://localhost:8080/"
        },
        "id": "DevGJYfTPive",
        "outputId": "8e03808c-4b86-48c8-9721-de7e7e91c2b4"
      },
      "execution_count": 31,
      "outputs": [
        {
          "output_type": "stream",
          "name": "stdout",
          "text": [
            "Cat meows\n",
            "None\n",
            "Dog barks\n",
            "None\n",
            "Animal speaks\n",
            "None\n"
          ]
        }
      ]
    }
  ]
}