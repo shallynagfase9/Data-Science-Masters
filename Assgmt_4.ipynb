{
  "nbformat": 4,
  "nbformat_minor": 0,
  "metadata": {
    "colab": {
      "provenance": [],
      "authorship_tag": "ABX9TyPu8ScSdViBLQfM+UAtKcQd",
      "include_colab_link": true
    },
    "kernelspec": {
      "name": "python3",
      "display_name": "Python 3"
    },
    "language_info": {
      "name": "python"
    }
  },
  "cells": [
    {
      "cell_type": "markdown",
      "metadata": {
        "id": "view-in-github",
        "colab_type": "text"
      },
      "source": [
        "<a href=\"https://colab.research.google.com/github/shallynagfase9/Data-Science-Masters/blob/main/Assgmt_4.ipynb\" target=\"_parent\"><img src=\"https://colab.research.google.com/assets/colab-badge.svg\" alt=\"Open In Colab\"/></a>"
      ]
    },
    {
      "cell_type": "code",
      "execution_count": 4,
      "metadata": {
        "colab": {
          "base_uri": "https://localhost:8080/"
        },
        "id": "Uq1LQy_l0pmw",
        "outputId": "a936483b-56dc-438d-c3b6-931788e734f8"
      },
      "outputs": [
        {
          "output_type": "stream",
          "name": "stdout",
          "text": [
            "('Virat Kohli', 24936)\n",
            "('Jack Kallis', 25534)\n",
            "('Ricky Ponting', 27483)\n",
            "('Sachin Tendulkar', 34357)\n"
          ]
        }
      ],
      "source": [
        "\"\"\"\n",
        "Create a python program to sort the given list of tuples based on integer value using a\n",
        "lambda function.\n",
        "[('Sachin Tendulkar', 34357), ('Ricky Ponting', 27483), ('Jack Kallis', 25534), ('Virat Kohli', 24936)]\n",
        "\"\"\"\n",
        "l = [('Sachin Tendulkar', 34357), ('Ricky Ponting', 27483), ('Jack Kallis', 25534), ('Virat Kohli', 24936)]\n",
        "sort_val = sorted(l, key=lambda x: x[1])\n",
        "for i in sort_val:\n",
        "    print(i)\n"
      ]
    },
    {
      "cell_type": "code",
      "source": [
        "# Write a Python Program to find the squares of all the numbers in the given list of integers using lambda and map functions.\n",
        "# [1, 2, 3, 4, 5, 6, 7, 8, 9, 10]\n",
        "l = [1, 2, 3, 4, 5, 6, 7, 8, 9, 10]\n",
        "print(list(map(lambda c: c**2,l)))"
      ],
      "metadata": {
        "colab": {
          "base_uri": "https://localhost:8080/"
        },
        "id": "uaHA0Xcu3UyW",
        "outputId": "3b15c347-bca6-4942-dd63-ace11e1b7d02"
      },
      "execution_count": 12,
      "outputs": [
        {
          "output_type": "stream",
          "name": "stdout",
          "text": [
            "[1, 4, 9, 16, 25, 36, 49, 64, 81, 100]\n"
          ]
        }
      ]
    },
    {
      "cell_type": "code",
      "source": [
        "\"\"\"\n",
        "Write a python program to convert the given list of integers into a tuple of strings. Use map and\n",
        "lambda functions\n",
        "Given String: [1, 2, 3, 4, 5, 6, 7, 8, 9, 10]\n",
        "Expected output: ('1', '2', '3', '4', '5', '6', '7', '8', '9', '10')\n",
        "\"\"\"\n",
        "l = [1, 2, 3, 4, 5, 6, 7, 8, 9, 10]\n",
        "print(tuple(list(map(lambda x: str(x),l))))\n"
      ],
      "metadata": {
        "colab": {
          "base_uri": "https://localhost:8080/"
        },
        "id": "qN588QPU41N5",
        "outputId": "626b8a51-f2c5-427c-8e96-0b701310194e"
      },
      "execution_count": 22,
      "outputs": [
        {
          "output_type": "stream",
          "name": "stdout",
          "text": [
            "('1', '2', '3', '4', '5', '6', '7', '8', '9', '10')\n"
          ]
        }
      ]
    },
    {
      "cell_type": "code",
      "source": [
        "# Write a python program using reduce function to compute the product of a list containing numbers from 1 to 25.\n",
        "from functools import reduce\n",
        "n = list(range(1, 26))\n",
        "m = lambda x, y: x * y\n",
        "p = reduce(m, n)\n",
        "print(\"The product of numbers from 1 to 25 is:\", p)\n",
        "\n"
      ],
      "metadata": {
        "colab": {
          "base_uri": "https://localhost:8080/"
        },
        "id": "3PKUbU9u6Y8t",
        "outputId": "f94ae930-14c1-4ee4-a364-105be454d6fa"
      },
      "execution_count": 28,
      "outputs": [
        {
          "output_type": "stream",
          "name": "stdout",
          "text": [
            "The product of numbers from 1 to 25 is: 15511210043330985984000000\n"
          ]
        }
      ]
    },
    {
      "cell_type": "code",
      "source": [
        "# Write a python program to filter the numbers in a given list that are divisible by 2 and 3 using the filter function.\n",
        "# [2, 3, 6, 9, 27, 60, 90, 120, 55, 46]\n",
        "l = [2, 3, 6, 9, 27, 60, 90, 120, 55, 46]\n",
        "c = print(list(filter(lambda a: a%2==0 & a%3==0,l)))"
      ],
      "metadata": {
        "colab": {
          "base_uri": "https://localhost:8080/"
        },
        "id": "M-So2dME9Bhp",
        "outputId": "82026d61-f448-4c01-b9cc-9d26a1c5a589"
      },
      "execution_count": 30,
      "outputs": [
        {
          "output_type": "stream",
          "name": "stdout",
          "text": [
            "[2, 6, 60, 90, 120, 46]\n"
          ]
        }
      ]
    },
    {
      "cell_type": "code",
      "source": [
        "# Write a python program to find palindromes in the given list of strings using lambda and filter function.\n",
        "# ['python', 'php', 'aba', 'radar', 'level']\n",
        "s = ['python', 'php', 'aba', 'radar', 'level']\n",
        "print(list(filter(lambda c: c==c[::-1],s)))\n"
      ],
      "metadata": {
        "colab": {
          "base_uri": "https://localhost:8080/"
        },
        "id": "O88kFRjY9s3J",
        "outputId": "e93dc3c2-e34b-41e2-e17b-d2151bf13c14"
      },
      "execution_count": 37,
      "outputs": [
        {
          "output_type": "stream",
          "name": "stdout",
          "text": [
            "['php', 'aba', 'radar', 'level']\n"
          ]
        }
      ]
    }
  ]
}