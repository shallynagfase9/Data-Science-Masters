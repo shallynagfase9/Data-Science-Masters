{
  "nbformat": 4,
  "nbformat_minor": 0,
  "metadata": {
    "colab": {
      "provenance": [],
      "authorship_tag": "ABX9TyOLjSyWtvRPkWGRfIakPel0",
      "include_colab_link": true
    },
    "kernelspec": {
      "name": "python3",
      "display_name": "Python 3"
    },
    "language_info": {
      "name": "python"
    }
  },
  "cells": [
    {
      "cell_type": "markdown",
      "metadata": {
        "id": "view-in-github",
        "colab_type": "text"
      },
      "source": [
        "<a href=\"https://colab.research.google.com/github/shallynagfase9/Data-Science-Masters/blob/main/Statistics_Assignment.ipynb\" target=\"_parent\"><img src=\"https://colab.research.google.com/assets/colab-badge.svg\" alt=\"Open In Colab\"/></a>"
      ]
    },
    {
      "cell_type": "code",
      "execution_count": null,
      "metadata": {
        "id": "P99dAdxug-WC"
      },
      "outputs": [],
      "source": [
        "# Q1. What are the three measures of central tendency?\n",
        "# Mean, Median, Mode"
      ]
    },
    {
      "cell_type": "code",
      "source": [
        "# Q2. What is the difference between the mean, median, and mode? How are they used to measure the central tendency of a dataset?\n",
        "'''\n",
        "The mean is the average, the median is the middle value, and the mode is the most common value.\n",
        "They each provide different insights into the central tendency of a dataset based on the characteristics of the data\n",
        "'''"
      ],
      "metadata": {
        "id": "D2Ja_SPghXdz"
      },
      "execution_count": null,
      "outputs": []
    },
    {
      "cell_type": "code",
      "source": [
        "'''\n",
        "Q3. Measure the three measures of central tendency for the given height data:\n",
        "[178,177,176,177,178.2,178,175,179,180,175,178.9,176.2,177,172.5,178,176.5]\n",
        "'''\n",
        "import numpy as np\n",
        "import statistics as stats\n",
        "height = [178,177,176,177,178.2,178,175,179,180,175,178.9,176.2,177,172.5,178,176.5]\n",
        "print(np.mean(height))\n",
        "print(np.median(height))\n",
        "print(stats.mode(height))\n"
      ],
      "metadata": {
        "colab": {
          "base_uri": "https://localhost:8080/"
        },
        "id": "QZJr7fAhhqnq",
        "outputId": "5f260003-4799-49ff-93e4-8a2573a6d68a"
      },
      "execution_count": 2,
      "outputs": [
        {
          "output_type": "stream",
          "name": "stdout",
          "text": [
            "177.01875\n",
            "177.0\n",
            "178\n"
          ]
        }
      ]
    },
    {
      "cell_type": "code",
      "source": [
        "'''\n",
        "Q4. Find the standard deviation for the given data:\n",
        "[178,177,176,177,178.2,178,175,179,180,175,178.9,176.2,177,172.5,178,176.5]\n",
        "'''\n",
        "data = [178,177,176,177,178.2,178,175,179,180,175,178.9,176.2,177,172.5,178,176.5]\n",
        "np.std(data)"
      ],
      "metadata": {
        "colab": {
          "base_uri": "https://localhost:8080/"
        },
        "id": "7onXk_DiiC1M",
        "outputId": "3eddb078-4653-4f11-b4c4-251f78ae0fd0"
      },
      "execution_count": 3,
      "outputs": [
        {
          "output_type": "execute_result",
          "data": {
            "text/plain": [
              "1.7885814036548633"
            ]
          },
          "metadata": {},
          "execution_count": 3
        }
      ]
    },
    {
      "cell_type": "code",
      "source": [
        "'''\n",
        "Q5. How are measures of dispersion such as range, variance, and standard deviation used to describe\n",
        "the spread of a dataset? Provide an example.\n",
        "'''\n",
        "\"\"\"\n",
        "1) Variance is a measure of how much the data points deviate from the mean. It is calculated as the average of the squared differences between each data point and the mean.\n",
        "Variance is a more informative measure of dispersion than range, as it uses all the observations in a dataset. However, it is expressed in squared units, which can make it difficult to interpret.\n",
        "2) Standard deviation is the square root of the variance and is expressed in the same units as the data. It is the most commonly used measure of dispersion and is preferred over variance\n",
        "because it is expressed in the same units as the data.\n",
        "3) Range is the simplest measure of dispersion and is calculated as the difference between the largest and smallest values in a dataset.\n",
        "\n",
        "For example, consider the following dataset of exam scores:\n",
        "Exam scores: 70, 70, 70, 70, 85, 85\n",
        "The mean score is 75.\n",
        "The range is calculated as the difference between the largest and smallest values, which is 85 - 70 = 15.\n",
        "The variance is calculated as the average of the squared differences between each data point and the mean, which is (70-75)^2 + (70-75)^2 + (70-75)^2 + (70-75)^2 + (85-75)^2 + (85-75)^2 / 6 = 62.5.\n",
        "The standard deviation is the square root of the variance, which is approximately 7.91.\n",
        "\"\"\""
      ],
      "metadata": {
        "colab": {
          "base_uri": "https://localhost:8080/",
          "height": 109
        },
        "id": "yZXNCOYciV6T",
        "outputId": "5bce84a2-d919-4a27-c7c7-728a1445f25d"
      },
      "execution_count": 5,
      "outputs": [
        {
          "output_type": "execute_result",
          "data": {
            "text/plain": [
              "'\\n1) Variance is a measure of how much the data points deviate from the mean. It is calculated as the average of the squared differences between each data point and the mean. \\nVariance is a more informative measure of dispersion than range, as it uses all the observations in a dataset. However, it is expressed in squared units, which can make it difficult to interpret.\\n2) Standard deviation is the square root of the variance and is expressed in the same units as the data. It is the most commonly used measure of dispersion and is preferred over variance \\nbecause it is expressed in the same units as the data. \\n3) Range is the simplest measure of dispersion and is calculated as the difference between the largest and smallest values in a dataset. \\n\\nFor example, consider the following dataset of exam scores:\\nExam scores: 70, 70, 70, 70, 85, 85\\nThe mean score is 75. \\nThe range is calculated as the difference between the largest and smallest values, which is 85 - 70 = 15. \\nThe variance is calculated as the average of the squared differences between each data point and the mean, which is (70-75)^2 + (70-75)^2 + (70-75)^2 + (70-75)^2 + (85-75)^2 + (85-75)^2 / 6 = 62.5. \\nThe standard deviation is the square root of the variance, which is approximately 7.91.\\n'"
            ],
            "application/vnd.google.colaboratory.intrinsic+json": {
              "type": "string"
            }
          },
          "metadata": {},
          "execution_count": 5
        }
      ]
    },
    {
      "cell_type": "code",
      "source": [
        "# Q6. What is a Venn diagram?\n",
        "'''\n",
        "Consider two sets A and B. The Venn diagram for these sets would consist of two overlapping circles.\n",
        "The region inside the first circle but outside the second circle represents the elements that are in set A but not in set B.\n",
        "The region inside the second circle but outside the first circle represents the elements that are in set B but not in set A.\n",
        "The region where the circles overlap represents the elements that are in both set A and set B.\n",
        "'''"
      ],
      "metadata": {
        "id": "Y2aUQfw7irxE"
      },
      "execution_count": null,
      "outputs": []
    },
    {
      "cell_type": "code",
      "source": [
        "\"\"\"\n",
        "Q7. For the two given sets A = (2,3,4,5,6,7) & B = (0,2,6,8,10). Find:\n",
        "(i) A ⋂ B\n",
        "(ii) A ⋃ B\n",
        "\"\"\"\n",
        "# A ⋂ B = {2,6}\n",
        "# A ⋃ B = {0,2,3,4,5,6,7,8,10}\n"
      ],
      "metadata": {
        "colab": {
          "base_uri": "https://localhost:8080/",
          "height": 36
        },
        "id": "k7TjxdnEjYir",
        "outputId": "6ea079b1-01c4-468a-ca8e-73f5b3ee1da4"
      },
      "execution_count": 11,
      "outputs": [
        {
          "output_type": "execute_result",
          "data": {
            "text/plain": [
              "'\\nQ7. For the two given sets A = (2,3,4,5,6,7) & B = (0,2,6,8,10). Find:\\n(i) A ⋂ B\\n(ii) A ⋃ B\\n'"
            ],
            "application/vnd.google.colaboratory.intrinsic+json": {
              "type": "string"
            }
          },
          "metadata": {},
          "execution_count": 11
        }
      ]
    },
    {
      "cell_type": "code",
      "source": [
        "# Q8. What do you understand about skewness in data?\n",
        "# Skewness is a measure of the asymmetry of the probability distribution of a real-valued random variable about its mean.\n",
        "# Skewness can be positive, zero, negative, or undefined.\n",
        "# Negative skew indicates the tail is on the left, while positive skew indicates the tail is on the right side of the distribution."
      ],
      "metadata": {
        "id": "DsIzeD9QjtpT"
      },
      "execution_count": 10,
      "outputs": []
    },
    {
      "cell_type": "code",
      "source": [
        "# Q9. If a data is right skewed then what will be the position of median with respect to mean?\n",
        "# If a data is right skewed, the median is greater than the mean.\n",
        "# This is because the tail of the distribution extends towards the right, causing the mean to be pulled towards the tail."
      ],
      "metadata": {
        "id": "P4x_JU_pj7OZ"
      },
      "execution_count": 9,
      "outputs": []
    },
    {
      "cell_type": "code",
      "source": [
        "# Q10. Explain the difference between covariance and correlation. How are these measures used in statistical analysis?\n",
        "\"\"\"\n",
        "In statistical analysis, both covariance and correlation are used to understand the relationship between variables and to make predictions or draw insights from data.\n",
        "Covariance helps in understanding the direction of the relationship, while correlation provides a standardized measure of the strength and direction of the relationship.\n",
        "These measures are crucial in various fields such as finance, economics, biology, and social sciences for analyzing data and making informed decisions based on the relationships between variables.\n",
        "\"\"\""
      ],
      "metadata": {
        "colab": {
          "base_uri": "https://localhost:8080/",
          "height": 72
        },
        "id": "W6y19okBkM75",
        "outputId": "667badcc-8117-4880-d9d8-5f4dd009b260"
      },
      "execution_count": 8,
      "outputs": [
        {
          "output_type": "execute_result",
          "data": {
            "text/plain": [
              "'\\nIn statistical analysis, both covariance and correlation are used to understand the relationship between variables and to make predictions or draw insights from data. \\nCovariance helps in understanding the direction of the relationship, while correlation provides a standardized measure of the strength and direction of the relationship. \\nThese measures are crucial in various fields such as finance, economics, biology, and social sciences for analyzing data and making informed decisions based on the relationships between variables.\\n'"
            ],
            "application/vnd.google.colaboratory.intrinsic+json": {
              "type": "string"
            }
          },
          "metadata": {},
          "execution_count": 8
        }
      ]
    },
    {
      "cell_type": "code",
      "source": [
        "# Q11. What is the formula for calculating the sample mean? Provide an example calculation for a dataset.\n",
        "\"\"\"\n",
        "The formula for calculating the sample mean is:\n",
        "x = ∑xi / n\n",
        "​\n",
        "Here's an example calculation for a dataset:\n",
        "Consider the dataset: 12, 15, 18, 20, 22, 25, 28, 30\n",
        "\n",
        "Step 1: Add up all the numbers in the dataset:\n",
        "12+15+18+20+22+25+28+30=160\n",
        "\n",
        "Step 2: Count the number of data points in the dataset. In this case, there are 8 data points.\n",
        "\n",
        "Step 3: Divide the sum of the data points by the number of data points to calculate the sample mean:\n",
        "x = 160/8 = 20\n",
        "Therefore, for the dataset provided, the sample mean is 20.\n",
        "\"\"\""
      ],
      "metadata": {
        "colab": {
          "base_uri": "https://localhost:8080/",
          "height": 72
        },
        "id": "f80PB_UlklvB",
        "outputId": "f3a5eb57-6816-4e71-aed7-82645aa3fcc7"
      },
      "execution_count": 15,
      "outputs": [
        {
          "output_type": "execute_result",
          "data": {
            "text/plain": [
              "\"\\nThe formula for calculating the sample mean is:\\nx = ∑xi / n\\n\\u200b\\nHere's an example calculation for a dataset:\\nConsider the dataset: 12, 15, 18, 20, 22, 25, 28, 30\\n\\nStep 1: Add up all the numbers in the dataset:\\n12+15+18+20+22+25+28+30=160\\n\\nStep 2: Count the number of data points in the dataset. In this case, there are 8 data points.\\n\\nStep 3: Divide the sum of the data points by the number of data points to calculate the sample mean:\\nx = 160/8 = 20\\nTherefore, for the dataset provided, the sample mean is 20.\\n\""
            ],
            "application/vnd.google.colaboratory.intrinsic+json": {
              "type": "string"
            }
          },
          "metadata": {},
          "execution_count": 15
        }
      ]
    },
    {
      "cell_type": "code",
      "source": [
        "# Q12. For a normal distribution data what is the relationship between its measure of central tendency?\n",
        "\"\"\"\n",
        "For a normal distribution, all measures of central tendency (mean, median, and mode) are equal.\n",
        "This is because the normal distribution is perfectly symmetric about a vertical line through its peak, and all measures of central tendency converge at the peak.\n",
        "The mean is the average of the data points, the median is the middle value when the data is ranked from lowest to highest, and the mode is the most frequently occurring value in the data set.\n",
        "In a normal distribution, the mean is the best measure of central tendency as it is the most commonly used and reliable measure.\n",
        "\"\"\""
      ],
      "metadata": {
        "colab": {
          "base_uri": "https://localhost:8080/",
          "height": 72
        },
        "id": "lqaIRX09lQtS",
        "outputId": "1abbbead-fb4d-4194-8ae9-001788631b06"
      },
      "execution_count": 6,
      "outputs": [
        {
          "output_type": "execute_result",
          "data": {
            "text/plain": [
              "'\\nFor a normal distribution, all measures of central tendency (mean, median, and mode) are equal. \\nThis is because the normal distribution is perfectly symmetric about a vertical line through its peak, and all measures of central tendency converge at the peak. \\nThe mean is the average of the data points, the median is the middle value when the data is ranked from lowest to highest, and the mode is the most frequently occurring value in the data set. \\nIn a normal distribution, the mean is the best measure of central tendency as it is the most commonly used and reliable measure.\\n'"
            ],
            "application/vnd.google.colaboratory.intrinsic+json": {
              "type": "string"
            }
          },
          "metadata": {},
          "execution_count": 6
        }
      ]
    },
    {
      "cell_type": "code",
      "source": [
        "# Q13. How is covariance different from correlation?\n",
        "\"\"\"\n",
        "Covariance and correlation are both measures of the relationship between two variables, but they differ in their interpretation and calculation.\n",
        "\n",
        "Covariance measures the degree to which two variables move together. It is calculated as the average of the product of the deviations of each variable from their respective means.\n",
        "Covariance can take on any value between negative infinity and positive infinity.\n",
        "\n",
        "Correlation, on the other hand, is a standardized measure of the relationship between two variables.\n",
        "It is calculated as the covariance of the two variables divided by the product of their standard deviations.\n",
        "Correlation ranges from -1 to +1, where -1 indicates a perfect negative relationship, 0 indicates no relationship, and +1 indicates a perfect positive relationship.\n",
        "\"\"\""
      ],
      "metadata": {
        "id": "-t_PCjQelfiQ"
      },
      "execution_count": null,
      "outputs": []
    },
    {
      "cell_type": "code",
      "source": [
        "# Q14. How do outliers affect measures of central tendency and dispersion? Provide an example.\n",
        "\"\"\"\n",
        "Outliers can significantly affect measures of central tendency and dispersion.\n",
        "\n",
        "When it comes to measures of central tendency, outliers can pull the mean towards their extreme values, inflating or lowering the mean depending on whether the outliers have large or small values.\n",
        "On the other hand, the median is less affected by outliers, as it represents the middle value and is not influenced by extreme values unless they are close to the median and significantly change the order of values.\n",
        "The mode is also less affected by outliers, as it is the most frequent value in the data set.\n",
        "\n",
        "When it comes to measures of dispersion, outliers can significantly increase the range if they are far from the other values.\n",
        "The interquartile range (IQR) is less affected by outliers compared to the range, but extreme outliers can still impact it.\n",
        "Standard deviation and variance can also be affected by outliers, as they introduce more variability to the dataset and increase the squared differences between outliers and the mean.\n",
        "\"\"\""
      ],
      "metadata": {
        "colab": {
          "base_uri": "https://localhost:8080/",
          "height": 109
        },
        "id": "ijSS8EN0l3nD",
        "outputId": "352344bf-f9bf-40a2-fb42-6ea668c7b32d"
      },
      "execution_count": 13,
      "outputs": [
        {
          "output_type": "execute_result",
          "data": {
            "text/plain": [
              "'\\nOutliers can significantly affect measures of central tendency and dispersion. \\n\\nWhen it comes to measures of central tendency, outliers can pull the mean towards their extreme values, inflating or lowering the mean depending on whether the outliers have large or small values. \\nOn the other hand, the median is less affected by outliers, as it represents the middle value and is not influenced by extreme values unless they are close to the median and significantly change the order of values. \\nThe mode is also less affected by outliers, as it is the most frequent value in the data set.\\n\\nWhen it comes to measures of dispersion, outliers can significantly increase the range if they are far from the other values. \\nThe interquartile range (IQR) is less affected by outliers compared to the range, but extreme outliers can still impact it. \\nStandard deviation and variance can also be affected by outliers, as they introduce more variability to the dataset and increase the squared differences between outliers and the mean.\\n'"
            ],
            "application/vnd.google.colaboratory.intrinsic+json": {
              "type": "string"
            }
          },
          "metadata": {},
          "execution_count": 13
        }
      ]
    },
    {
      "cell_type": "code",
      "source": [],
      "metadata": {
        "id": "xVAh8mvPmD6U"
      },
      "execution_count": null,
      "outputs": []
    }
  ]
}