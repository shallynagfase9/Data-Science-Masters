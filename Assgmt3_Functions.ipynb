{
  "nbformat": 4,
  "nbformat_minor": 0,
  "metadata": {
    "colab": {
      "provenance": [],
      "authorship_tag": "ABX9TyMFNqkPLzCpj1oWETqLoPpv",
      "include_colab_link": true
    },
    "kernelspec": {
      "name": "python3",
      "display_name": "Python 3"
    },
    "language_info": {
      "name": "python"
    }
  },
  "cells": [
    {
      "cell_type": "markdown",
      "metadata": {
        "id": "view-in-github",
        "colab_type": "text"
      },
      "source": [
        "<a href=\"https://colab.research.google.com/github/shallynagfase9/Data-Science-Masters/blob/main/Assgmt3_Functions.ipynb\" target=\"_parent\"><img src=\"https://colab.research.google.com/assets/colab-badge.svg\" alt=\"Open In Colab\"/></a>"
      ]
    },
    {
      "cell_type": "code",
      "execution_count": 12,
      "metadata": {
        "colab": {
          "base_uri": "https://localhost:8080/"
        },
        "id": "E1eXMAcAosiS",
        "outputId": "60f8ad79-c526-4bb3-c1e4-3a5542ebc75f"
      },
      "outputs": [
        {
          "output_type": "stream",
          "name": "stdout",
          "text": [
            "[1, 3, 5, 7, 9, 11, 13, 15, 17, 19, 21, 23, 25]\n"
          ]
        }
      ],
      "source": [
        "# Which keyword is used to create a function? Create a function to return a list of odd numbers in the range of 1 to 25.\n",
        "\"\"\"\n",
        "'def' keyword is used to create a function.\n",
        "\"\"\"\n",
        "a = [1,2,3,4,5,6,7,8,9,10,11,12,13,14,15,16,17,18,19,20,21,22,23,24,25]\n",
        "def odd_list(a):\n",
        "  n = []\n",
        "  for i in a:\n",
        "    if i%2!=0:\n",
        "      n.append(i)\n",
        "  return n\n",
        "print(odd_list(a))"
      ]
    },
    {
      "cell_type": "code",
      "source": [
        "from re import A\n",
        "# Why *args and **kwargs is used in some functions? Create a function each for *args and **kwargs to demonstrate their use.\n",
        "\"\"\"\n",
        "' *args ' is used in some functions to take n number of arguments.\n",
        "' *kwargs ' is used in some functions to take n number of keys and values as arguments just like a dictionary.\n",
        "\"\"\"\n",
        "# function for *args\n",
        "def test(*args):\n",
        "  return args\n",
        "print(test(1,2,3,435,65,6,43,43,33,23))\n",
        "print(test(\"shally\",23,1,54,67,23,\"rohit\"))\n",
        "\n",
        "# function for *kwargs\n",
        "def test1(**kwargs):\n",
        "  return kwargs\n",
        "print(test1(name=\"shally\",email=\"shally@gmail.com\"))\n",
        "\n",
        "# function each for *args and **kwargs\n",
        "def test2(*args,**kwargs):\n",
        "  return args,kwargs\n",
        "print(test2(1,2,3,4,5,name=\"shally\",branch=\"AIDS\"))\n"
      ],
      "metadata": {
        "colab": {
          "base_uri": "https://localhost:8080/"
        },
        "id": "tA68wpT-qllO",
        "outputId": "70856d49-6796-4017-948a-1094b42c9544"
      },
      "execution_count": 29,
      "outputs": [
        {
          "output_type": "stream",
          "name": "stdout",
          "text": [
            "(1, 2, 3, 435, 65, 6, 43, 43, 33, 23)\n",
            "('shally', 23, 1, 54, 67, 23, 'rohit')\n",
            "{'name': 'shally', 'email': 'shally@gmail.com'}\n",
            "((1, 2, 3, 4, 5), {'name': 'shally', 'branch': 'AIDS'})\n"
          ]
        }
      ]
    },
    {
      "cell_type": "code",
      "source": [
        "\"\"\" What is an iterator in python? Name the method used to initialise the iterator object\n",
        "and the method used for iteration. Use these methods to print the first five elements\n",
        "of the given list [2, 4, 6, 8, 10, 12, 14, 16, 18, 20]. \"\"\"\n",
        "# An Iterator is an object that can be used to loop through collections, like ArrayList and HashSet.\n",
        "list =  [2, 4, 6, 8, 10, 12, 14, 16, 18, 20]\n",
        "for i in list:\n",
        "  if i <= 10:\n",
        "    print(i)\n"
      ],
      "metadata": {
        "colab": {
          "base_uri": "https://localhost:8080/"
        },
        "id": "-nxk_4XLuJcs",
        "outputId": "54115f22-54a1-4bcc-a55e-2923ee8b9a12"
      },
      "execution_count": 34,
      "outputs": [
        {
          "output_type": "stream",
          "name": "stdout",
          "text": [
            "2\n",
            "4\n",
            "6\n",
            "8\n",
            "10\n"
          ]
        }
      ]
    },
    {
      "cell_type": "code",
      "source": [
        "# What is a generator function in python? Why yield keyword is used? Give an example of a generator function.\n",
        "\"\"\"\n",
        "Generator is a function in python which does not return a single value, instead, it returns an iterator object with sequence of values.\n",
        "In Generator function, instead of return yield is used.\n",
        "\"\"\"\n",
        "def test(n):\n",
        "  a, b = 0, 1\n",
        "  for i in range(n):\n",
        "    yield a\n",
        "    a, b = b, a+b\n",
        "for i in test(12):\n",
        "  print(i)\n"
      ],
      "metadata": {
        "colab": {
          "base_uri": "https://localhost:8080/"
        },
        "id": "3VTUILH1vmJo",
        "outputId": "7b3c2f0f-27eb-47b5-ec67-3ffacf996d9a"
      },
      "execution_count": 38,
      "outputs": [
        {
          "output_type": "stream",
          "name": "stdout",
          "text": [
            "0\n",
            "1\n",
            "1\n",
            "2\n",
            "3\n",
            "5\n",
            "8\n",
            "13\n",
            "21\n",
            "34\n",
            "55\n",
            "89\n"
          ]
        }
      ]
    },
    {
      "cell_type": "code",
      "source": [
        "# Create a generator function for prime numbers less than 1000. Use the next() method to print the first 20 prime numbers.\n",
        "def prime(n):\n",
        "    if n <= 1:\n",
        "        return False\n",
        "    if n <= 3:\n",
        "        return True\n",
        "    if n % 2 == 0 or n % 3 == 0:\n",
        "        return False\n",
        "    i = 5\n",
        "    while i * i <= n:\n",
        "        if n % i == 0 or n % (i + 2) == 0:\n",
        "            return False\n",
        "        i += 6\n",
        "    return True\n",
        "\n",
        "def generate_primes():\n",
        "    num = 2\n",
        "    while num < 1000:\n",
        "        if prime(num):\n",
        "            yield num\n",
        "        num += 1\n",
        "\n",
        "# Using the generator to print the first 20 prime numbers\n",
        "prime_generator = generate_primes()\n",
        "for _ in range(20):\n",
        "    print(next(prime_generator))\n"
      ],
      "metadata": {
        "colab": {
          "base_uri": "https://localhost:8080/"
        },
        "id": "DJBgvzvZxgIk",
        "outputId": "0371ba19-aa70-449c-cdce-70c6069ea515"
      },
      "execution_count": 40,
      "outputs": [
        {
          "output_type": "stream",
          "name": "stdout",
          "text": [
            "2\n",
            "3\n",
            "5\n",
            "7\n",
            "11\n",
            "13\n",
            "17\n",
            "19\n",
            "23\n",
            "29\n",
            "31\n",
            "37\n",
            "41\n",
            "43\n",
            "47\n",
            "53\n",
            "59\n",
            "61\n",
            "67\n",
            "71\n"
          ]
        }
      ]
    }
  ]
}