{
  "nbformat": 4,
  "nbformat_minor": 0,
  "metadata": {
    "colab": {
      "provenance": [],
      "authorship_tag": "ABX9TyMCXs4yyrcViBs1aNRhwogH",
      "include_colab_link": true
    },
    "kernelspec": {
      "name": "python3",
      "display_name": "Python 3"
    },
    "language_info": {
      "name": "python"
    }
  },
  "cells": [
    {
      "cell_type": "markdown",
      "metadata": {
        "id": "view-in-github",
        "colab_type": "text"
      },
      "source": [
        "<a href=\"https://colab.research.google.com/github/shallynagfase9/Data-Science-Masters/blob/main/Equilateral_Traingle(Pattern).ipynb\" target=\"_parent\"><img src=\"https://colab.research.google.com/assets/colab-badge.svg\" alt=\"Open In Colab\"/></a>"
      ]
    },
    {
      "cell_type": "code",
      "execution_count": null,
      "metadata": {
        "colab": {
          "base_uri": "https://localhost:8080/"
        },
        "id": "EmVhzSqm09bD",
        "outputId": "a8e4eea6-875b-44c2-b7e0-25120b96e7d5"
      },
      "outputs": [
        {
          "output_type": "stream",
          "name": "stdout",
          "text": [
            "Enter the size of the equilateral triangle: 15\n",
            "               *\n",
            "              **\n",
            "             ****\n",
            "            ******\n",
            "           ********\n",
            "          **********\n",
            "         ************\n",
            "        **************\n",
            "       ****************\n",
            "      ******************\n",
            "     ********************\n",
            "    **********************\n",
            "   ************************\n",
            "  **************************\n",
            " ****************************\n"
          ]
        }
      ],
      "source": [
        "######### Patterns using Nested Loops(EUQILATERAL TRIANGLE) ##########\n",
        "size = int(input(\"Enter the size of the equilateral triangle: \"))\n",
        "for i in range(size):\n",
        "    for j in range(size-i):\n",
        "        print(\"\",end=\" \")\n",
        "    for k in range(i+1):\n",
        "        print(\"*\",end=\"\")\n",
        "    for m in range(k-1):\n",
        "        print(\"*\",end=\"\")\n",
        "    print()\n",
        "\n"
      ]
    },
    {
      "cell_type": "code",
      "source": [
        "# Method 2\n",
        "n = 20\n",
        "for i in range(n):\n",
        "    print(\" \"*(n-i),end=\"\")\n",
        "    for j in range(i*2+1):\n",
        "            print(\"*\",end=\"\")\n",
        "\n",
        "    print()\n",
        "\n"
      ],
      "metadata": {
        "colab": {
          "base_uri": "https://localhost:8080/"
        },
        "id": "dG6Wi67C2sFs",
        "outputId": "80786061-4a0a-4c7b-acad-1be01c3b2e4c"
      },
      "execution_count": 4,
      "outputs": [
        {
          "output_type": "stream",
          "name": "stdout",
          "text": [
            "                    *\n",
            "                   ***\n",
            "                  *****\n",
            "                 *******\n",
            "                *********\n",
            "               ***********\n",
            "              *************\n",
            "             ***************\n",
            "            *****************\n",
            "           *******************\n",
            "          *********************\n",
            "         ***********************\n",
            "        *************************\n",
            "       ***************************\n",
            "      *****************************\n",
            "     *******************************\n",
            "    *********************************\n",
            "   ***********************************\n",
            "  *************************************\n",
            " ***************************************\n"
          ]
        }
      ]
    }
  ]
}