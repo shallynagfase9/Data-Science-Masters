{
  "nbformat": 4,
  "nbformat_minor": 0,
  "metadata": {
    "colab": {
      "provenance": [],
      "authorship_tag": "ABX9TyO/kMcV4reEiDGfdzmGEu6U",
      "include_colab_link": true
    },
    "kernelspec": {
      "name": "python3",
      "display_name": "Python 3"
    },
    "language_info": {
      "name": "python"
    }
  },
  "cells": [
    {
      "cell_type": "markdown",
      "metadata": {
        "id": "view-in-github",
        "colab_type": "text"
      },
      "source": [
        "<a href=\"https://colab.research.google.com/github/shallynagfase9/Data-Science-Masters/blob/main/DS_Assgmt2.ipynb\" target=\"_parent\"><img src=\"https://colab.research.google.com/assets/colab-badge.svg\" alt=\"Open In Colab\"/></a>"
      ]
    },
    {
      "cell_type": "code",
      "execution_count": null,
      "metadata": {
        "id": "-MulwPGE9Mm1"
      },
      "outputs": [],
      "source": [
        "#Two Types of Comments in Python are:\n",
        "1) Single line comment\n",
        "2) Multi-line comment\n",
        "We can comment code in python by using Hash symbol (#) and triple inverted commas (\"\"\")\n",
        "- Triple inverted commas is used to comment multiple lines.\n",
        "- Hash symbol is used to comment single line."
      ]
    },
    {
      "cell_type": "code",
      "source": [
        "# Variables in Python are containers that store values.\n",
        "For example:\n",
        "x = 300\n",
        "In this example, x is a variable which is assigned with value 300 or x is a variable that is storing value 300."
      ],
      "metadata": {
        "id": "CNx1dEle-kh9"
      },
      "execution_count": null,
      "outputs": []
    },
    {
      "cell_type": "code",
      "source": [
        "# We can convert one data type into another in the following ways:\n",
        "# Converting an integer into string\n",
        "y = str(300)\n",
        "print(type(y))\n",
        "print(y)\n",
        "\n",
        "# Converting a Boolean into integer\n",
        "a = int(True)\n",
        "print(type(a))\n",
        "print(a)\n",
        "\n",
        "# Converting a character into int\n",
        "z = int(\"123\")\n",
        "print(type(z))\n",
        "print(z)\n",
        "\n",
        "# Converting a integer into Boolean\n",
        "x = bool(1)\n",
        "print(type(x))\n",
        "print(x)\n",
        "\n",
        "# Converting List into Tuple\n",
        "l = [1,2,3,4]\n",
        "print(tuple(l))\n",
        "\n",
        "# Converting Set into List\n",
        "s = {\"shally\",23,45,\"mummy\"}\n",
        "print(list(s))\n",
        "\n",
        "# Converting Dictionary into Tuple\n",
        "d = {\"name\":\"shally\",\"email\":\"shally@gmail.com\"}\n",
        "print(tuple(d))"
      ],
      "metadata": {
        "colab": {
          "base_uri": "https://localhost:8080/"
        },
        "id": "r60fwqSX-9m_",
        "outputId": "bd414213-1280-48aa-be2f-9889016759ba"
      },
      "execution_count": 13,
      "outputs": [
        {
          "output_type": "stream",
          "name": "stdout",
          "text": [
            "<class 'str'>\n",
            "300\n",
            "<class 'int'>\n",
            "1\n",
            "<class 'int'>\n",
            "123\n",
            "<class 'bool'>\n",
            "True\n",
            "(1, 2, 3, 4)\n",
            "['shally', 45, 'mummy', 23]\n",
            "('name', 'email')\n"
          ]
        }
      ]
    },
    {
      "cell_type": "code",
      "source": [
        "# We can write and execute a Python script from the command line in the following way:\n",
        "\"\"\"\n",
        "1) Write the Python script in any text editor such as Notepad, VScode, Pycharm etc and save the file with extension '.py'.\n",
        "2) Open Command Prompt and use the command 'cd Desktop' to navigate the directory where your python script is saved.\n",
        "3) Execute the script by using python followed by the scripts filename.\n",
        "4) View the Output\n",
        "\"\"\""
      ],
      "metadata": {
        "id": "jEBKnJ4rCLm_"
      },
      "execution_count": null,
      "outputs": []
    },
    {
      "cell_type": "code",
      "source": [
        "# Given a list my_list = [1, 2, 3, 4, 5], write the code to slice the list and obtain the sub-list [2, 3].\n",
        "my_list = [1,2,3,4,5]\n",
        "print(my_list[1:3])"
      ],
      "metadata": {
        "colab": {
          "base_uri": "https://localhost:8080/"
        },
        "id": "lcEvdMhsEz42",
        "outputId": "16a7d754-57ff-45fb-a367-ddb2ff13f03c"
      },
      "execution_count": 14,
      "outputs": [
        {
          "output_type": "stream",
          "name": "stdout",
          "text": [
            "[2, 3]\n"
          ]
        }
      ]
    },
    {
      "cell_type": "code",
      "source": [
        "# What is a complex number in mathematics, and how is it represented in Python?\n",
        "# A Complex number is a combination of a real number and imaginary number.\n",
        "a = 2+4j\n",
        "print(type(a))\n",
        "print(a)"
      ],
      "metadata": {
        "colab": {
          "base_uri": "https://localhost:8080/"
        },
        "id": "RapsjnzQFIC6",
        "outputId": "b8f8ba40-e828-4236-b141-fe3f02acba0f"
      },
      "execution_count": 15,
      "outputs": [
        {
          "output_type": "stream",
          "name": "stdout",
          "text": [
            "<class 'complex'>\n",
            "(2+4j)\n"
          ]
        }
      ]
    },
    {
      "cell_type": "code",
      "source": [
        "# What is the correct way to declare a variable named age and assign the value 25 to it?\n",
        "age = 25\n",
        "print(age)"
      ],
      "metadata": {
        "colab": {
          "base_uri": "https://localhost:8080/"
        },
        "id": "4RWZvJBOF_Hl",
        "outputId": "79fbd2b8-1db0-497e-c5dd-fc511234ecf3"
      },
      "execution_count": 16,
      "outputs": [
        {
          "output_type": "stream",
          "name": "stdout",
          "text": [
            "25\n"
          ]
        }
      ]
    },
    {
      "cell_type": "code",
      "source": [
        "# Declare a variable named price and assign the value 9.99 to it. What data type does this variable belong to?\n",
        "price = 9.99\n",
        "print(price)\n",
        "print(type(price))"
      ],
      "metadata": {
        "colab": {
          "base_uri": "https://localhost:8080/"
        },
        "id": "KKkUEVJ2GTiH",
        "outputId": "ad08f522-9314-4e38-dd7e-bc59da563cf7"
      },
      "execution_count": 17,
      "outputs": [
        {
          "output_type": "stream",
          "name": "stdout",
          "text": [
            "9.99\n",
            "<class 'float'>\n"
          ]
        }
      ]
    },
    {
      "cell_type": "code",
      "source": [
        "# Create a variable named name and assign your full name to it as a string. How would you print the value of this variable?\n",
        "name = \"Shally Nagfase\"\n",
        "print(name)\n",
        "print(type(name))"
      ],
      "metadata": {
        "colab": {
          "base_uri": "https://localhost:8080/"
        },
        "id": "4OhFuGXjGgre",
        "outputId": "b49347d7-4d57-4a61-d198-4aeeb886d221"
      },
      "execution_count": 19,
      "outputs": [
        {
          "output_type": "stream",
          "name": "stdout",
          "text": [
            "Shally Nagfase\n",
            "<class 'str'>\n"
          ]
        }
      ]
    },
    {
      "cell_type": "code",
      "source": [
        "# Given the string \"Hello, World!\", extract the substring \"World\".\n",
        "a = \"Hello, World!\"\n",
        "print(a[7:12])"
      ],
      "metadata": {
        "colab": {
          "base_uri": "https://localhost:8080/"
        },
        "id": "054fLF1lG031",
        "outputId": "9709611e-07eb-4e7b-951b-4f23afde3c69"
      },
      "execution_count": 28,
      "outputs": [
        {
          "output_type": "stream",
          "name": "stdout",
          "text": [
            "World\n"
          ]
        }
      ]
    },
    {
      "cell_type": "code",
      "source": [
        "# Create a variable named \"is_student\" and assign it a boolean value indicating whether you are currently a student or not.\n",
        "is_student = True\n",
        "print(is_student)"
      ],
      "metadata": {
        "colab": {
          "base_uri": "https://localhost:8080/"
        },
        "id": "fT3dDHW9HdRC",
        "outputId": "8454c9d7-f8da-4232-fcff-17bb238c28e5"
      },
      "execution_count": 30,
      "outputs": [
        {
          "output_type": "stream",
          "name": "stdout",
          "text": [
            "True\n"
          ]
        }
      ]
    }
  ]
}