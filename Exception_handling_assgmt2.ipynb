{
  "nbformat": 4,
  "nbformat_minor": 0,
  "metadata": {
    "colab": {
      "provenance": [],
      "authorship_tag": "ABX9TyNSseYKCh93J8Dk1g2bxW7U",
      "include_colab_link": true
    },
    "kernelspec": {
      "name": "python3",
      "display_name": "Python 3"
    },
    "language_info": {
      "name": "python"
    }
  },
  "cells": [
    {
      "cell_type": "markdown",
      "metadata": {
        "id": "view-in-github",
        "colab_type": "text"
      },
      "source": [
        "<a href=\"https://colab.research.google.com/github/shallynagfase9/Data-Science-Masters/blob/main/Exception_handling_assgmt2.ipynb\" target=\"_parent\"><img src=\"https://colab.research.google.com/assets/colab-badge.svg\" alt=\"Open In Colab\"/></a>"
      ]
    },
    {
      "cell_type": "code",
      "execution_count": null,
      "metadata": {
        "id": "EMjbYJLJLtgH"
      },
      "outputs": [],
      "source": [
        "\"\"\" Q1. Explain why we have to use the Exception class while creating a Custom Exception.\n",
        "Note: Here Exception class refers to the base class for all the exceptions. \"\"\"\n",
        "\"\"\"\n",
        "Using the Exception class as the base for custom exceptions ensures compatibility, clarity, and flexibility in error handling,\n",
        "making it a best practice in software development.\n",
        "It allows for consistent and effective handling of exceptional situations in a program.\n",
        " \"\"\""
      ]
    },
    {
      "cell_type": "code",
      "source": [
        "# Q2. Write a python program to print Python Exception Hierarchy.\n",
        "import traceback\n",
        "\n",
        "try:\n",
        "    raise Exception(\"Custom Exception\")\n",
        "\n",
        "except Exception as e:\n",
        "    print(\"Python Exception Hierarchy\")\n",
        "\n",
        ""
      ],
      "metadata": {
        "colab": {
          "base_uri": "https://localhost:8080/"
        },
        "id": "8LtzgksWMgOB",
        "outputId": "a0162467-331b-4abb-aa30-61dd98cb6c88"
      },
      "execution_count": 5,
      "outputs": [
        {
          "output_type": "stream",
          "name": "stdout",
          "text": [
            "Python Exception Hierarchy\n"
          ]
        }
      ]
    },
    {
      "cell_type": "code",
      "source": [
        "# Q3. What errors are defined in the ArithmeticError class? Explain any two with an example.\n",
        "# ZeroDivisionError, OverflowError and FloatingPointError are the errors defined in ArithmeticError class.\n",
        "# Example1:\n",
        "try:\n",
        "  num1 = 29\n",
        "  num2 = 0\n",
        "  result = num1/num2\n",
        "  print(result)\n",
        "except ZeroDivisionError as e:\n",
        "  print(\"Error Occurred: ZeroDivisionError\")\n",
        "\n",
        "\n",
        "# Example2:\n",
        "try:\n",
        "  a = 2\n",
        "  b = 3000\n",
        "  result = a**b\n",
        "except OverflowError as e:\n",
        "  print(f\"Error Occurred:OverflowError {e}\")"
      ],
      "metadata": {
        "colab": {
          "base_uri": "https://localhost:8080/"
        },
        "id": "0CbeABijNHPl",
        "outputId": "e138c884-949b-4d5b-e731-33c1c5d21262"
      },
      "execution_count": 10,
      "outputs": [
        {
          "output_type": "stream",
          "name": "stdout",
          "text": [
            "Error Occurred: ZeroDivisionError\n"
          ]
        }
      ]
    },
    {
      "cell_type": "code",
      "source": [
        "# Q4. Why LookupError class is used? Explain with an example KeyError and IndexError.\n",
        "\n",
        "# LookupError class is used as a base class for exceptions related to Lookup operations or Indexing Operations.\n",
        "\n",
        "# KeyError is raised when you try to access a dictionary with a key that does not exist in the dictionary.\n",
        "# Example:\n",
        "try:\n",
        "  my_dict = {\"name\":\"shally\",\"gmail\":\"shally@gmail.com\"}\n",
        "  my_dict[\"phone_no\"]\n",
        "except KeyError as e:\n",
        "  print(\"Error occurred: KeyError\")\n",
        "\n",
        "\n",
        "# IndexError is raised when you try to access an index that is out of range in a sequence, such as a list or a string.\n",
        "try:\n",
        "  list = [1,2,3,4,5,6,7,8,9,10]\n",
        "  list[20]\n",
        "except IndexError as e:\n",
        "  print(\"Error occurred: IndexError\")"
      ],
      "metadata": {
        "colab": {
          "base_uri": "https://localhost:8080/"
        },
        "id": "CXaNbZiyOh-j",
        "outputId": "b9b77a0f-568a-4da3-c658-84e41711e974"
      },
      "execution_count": 17,
      "outputs": [
        {
          "output_type": "stream",
          "name": "stdout",
          "text": [
            "Error occurred: KeyError\n",
            "Error occurred: IndexError\n"
          ]
        }
      ]
    },
    {
      "cell_type": "code",
      "source": [
        "# Q5. Explain ImportError. What is ModuleNotFoundError?\n",
        "\"\"\" ImportError is a built-in exception in Python that is raised when an import statement fails to import a module\n",
        "or when there is an issue with importing a specific object or name from a module. \"\"\"\n",
        "try:\n",
        "  import non_existing_module\n",
        "except ImportError as e:\n",
        "  print(f\"Error Occurred: ImportError{e} \")"
      ],
      "metadata": {
        "colab": {
          "base_uri": "https://localhost:8080/"
        },
        "id": "sNnSY7jUP1dO",
        "outputId": "16843f4e-f358-4a76-aa6b-c5c996d88d03"
      },
      "execution_count": 18,
      "outputs": [
        {
          "output_type": "stream",
          "name": "stdout",
          "text": [
            "Error Occurred: ImportErrorNo module named 'non_existing_module' \n"
          ]
        }
      ]
    },
    {
      "cell_type": "code",
      "source": [
        "# Q6. List down some best practices for exception handling in python.\n",
        "# Use always a specific exception\n",
        "# print always a valid mssg\n",
        "# Always try to use log\n",
        "# Always avoid to write multiple exception handling\n",
        "# Prepare a proper documentation\n",
        "# Cleanup all the resources"
      ],
      "metadata": {
        "id": "Ujr_7FFQSZbj"
      },
      "execution_count": null,
      "outputs": []
    }
  ]
}