{
  "nbformat": 4,
  "nbformat_minor": 0,
  "metadata": {
    "colab": {
      "provenance": [],
      "authorship_tag": "ABX9TyMh8iHuecVC+ycFUnHbmm+M",
      "include_colab_link": true
    },
    "kernelspec": {
      "name": "python3",
      "display_name": "Python 3"
    },
    "language_info": {
      "name": "python"
    }
  },
  "cells": [
    {
      "cell_type": "markdown",
      "metadata": {
        "id": "view-in-github",
        "colab_type": "text"
      },
      "source": [
        "<a href=\"https://colab.research.google.com/github/shallynagfase9/Data-Science-Masters/blob/main/Loop_controls.ipynb\" target=\"_parent\"><img src=\"https://colab.research.google.com/assets/colab-badge.svg\" alt=\"Open In Colab\"/></a>"
      ]
    },
    {
      "cell_type": "code",
      "execution_count": null,
      "metadata": {
        "colab": {
          "base_uri": "https://localhost:8080/"
        },
        "id": "KpgMS32javQ7",
        "outputId": "065e7a34-a077-4834-e647-18c4681c39c2"
      },
      "outputs": [
        {
          "output_type": "stream",
          "name": "stdout",
          "text": [
            "1\n",
            "2\n",
            "3\n",
            "4\n",
            "5\n",
            "Shally\n"
          ]
        }
      ],
      "source": [
        "# BREAK\n",
        "list=[1,2,3,4,5,\"Shally\",\"Harpreet\"]    # The loop breaks after shally is printed\n",
        "for i in list:                          # In break it will skip the entire Loop\n",
        "  print(i)\n",
        "  if i==\"Shally\":\n",
        "    break"
      ]
    },
    {
      "cell_type": "code",
      "source": [
        "# PATTERN\n",
        "n=int(input(\"Enter the value of n: \"))\n",
        "for i in range(0,n):\n",
        "  for j in range(0,i+1):\n",
        "    print(\"* \",end=\"\")\n",
        "  print(\"\\r\")"
      ],
      "metadata": {
        "colab": {
          "base_uri": "https://localhost:8080/"
        },
        "id": "jITU-HTyUenf",
        "outputId": "713b7a38-ea22-4d5c-a6c2-a2db95ce70b0"
      },
      "execution_count": 2,
      "outputs": [
        {
          "output_type": "stream",
          "name": "stdout",
          "text": [
            "Enter the value of n: 8\n",
            "* \n",
            "* * \n",
            "* * * \n",
            "* * * * \n",
            "* * * * * \n",
            "* * * * * * \n",
            "* * * * * * * \n",
            "* * * * * * * * \n"
          ]
        }
      ]
    },
    {
      "cell_type": "code",
      "source": [
        "# CONTINUE\n",
        "list=[1,2,3,4,5,\"Shally\",\"Harpreet\"]     # Shally is not getting printed in the output\n",
        "for i in list:                           # In continue it will skip one step which ever step is running based on condition\n",
        "  if i==\"Shally\":\n",
        "    print(\"The name is Shally\")\n",
        "    continue\n",
        "  print(i)"
      ],
      "metadata": {
        "colab": {
          "base_uri": "https://localhost:8080/"
        },
        "id": "VLd78gbAVba5",
        "outputId": "ddd503f5-5b6b-4c80-d49b-ce64c25e5841"
      },
      "execution_count": 8,
      "outputs": [
        {
          "output_type": "stream",
          "name": "stdout",
          "text": [
            "1\n",
            "2\n",
            "3\n",
            "4\n",
            "5\n",
            "The name is Shally\n",
            "Harpreet\n"
          ]
        }
      ]
    },
    {
      "cell_type": "code",
      "source": [
        "# PASS\n",
        "list=[1,2,3,4,5,\"Shally\",\"Harpreet\"]         # Shally is getting printed in the output\n",
        "for i in list:\n",
        "  if i==\"Shally\":\n",
        "    print(\"The name is Shally\")\n",
        "    pass\n",
        "  print(i)"
      ],
      "metadata": {
        "colab": {
          "base_uri": "https://localhost:8080/"
        },
        "id": "xyhxnNbibhC7",
        "outputId": "439225df-09d8-440e-ee24-041f4c8764c9"
      },
      "execution_count": 9,
      "outputs": [
        {
          "output_type": "stream",
          "name": "stdout",
          "text": [
            "1\n",
            "2\n",
            "3\n",
            "4\n",
            "5\n",
            "The name is Shally\n",
            "Shally\n",
            "Harpreet\n"
          ]
        }
      ]
    }
  ]
}