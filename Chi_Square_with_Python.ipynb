{
  "nbformat": 4,
  "nbformat_minor": 0,
  "metadata": {
    "colab": {
      "provenance": [],
      "authorship_tag": "ABX9TyOe8fxGDyZSb/4XQIAVuefm",
      "include_colab_link": true
    },
    "kernelspec": {
      "name": "python3",
      "display_name": "Python 3"
    },
    "language_info": {
      "name": "python"
    }
  },
  "cells": [
    {
      "cell_type": "markdown",
      "metadata": {
        "id": "view-in-github",
        "colab_type": "text"
      },
      "source": [
        "<a href=\"https://colab.research.google.com/github/shallynagfase9/Data-Science-Masters/blob/main/Chi_Square_with_Python.ipynb\" target=\"_parent\"><img src=\"https://colab.research.google.com/assets/colab-badge.svg\" alt=\"Open In Colab\"/></a>"
      ]
    },
    {
      "cell_type": "code",
      "execution_count": 1,
      "metadata": {
        "id": "SsXmxbos24H0"
      },
      "outputs": [],
      "source": [
        "import numpy as np\n",
        "import scipy.stats as stat"
      ]
    },
    {
      "cell_type": "code",
      "source": [
        "# Number of hours student study daily on a weekly basis\n",
        "# Monday, Tuesday, Wednesday, Thursday, Friday, Saturday, Sunday\n",
        "expected_data = [8,6,7,9,6,9,7]\n",
        "observed_data = [7,8,6,9,9,6,7]\n"
      ],
      "metadata": {
        "id": "pZisS6H0dKVA"
      },
      "execution_count": 3,
      "outputs": []
    },
    {
      "cell_type": "code",
      "source": [
        "sum(expected_data),sum(observed_data)"
      ],
      "metadata": {
        "colab": {
          "base_uri": "https://localhost:8080/"
        },
        "id": "LpRSg7ZHdrjC",
        "outputId": "3d22ac00-420f-4cd4-90e2-73a3aeac7110"
      },
      "execution_count": 4,
      "outputs": [
        {
          "output_type": "execute_result",
          "data": {
            "text/plain": [
              "(52, 52)"
            ]
          },
          "metadata": {},
          "execution_count": 4
        }
      ]
    },
    {
      "cell_type": "code",
      "source": [
        "# Chi square Goodness of fit\n",
        "chisquare_test_statistics,p_value = stat.chisquare(observed_data,expected_data)"
      ],
      "metadata": {
        "id": "lYlnaigsdxXM"
      },
      "execution_count": 5,
      "outputs": []
    },
    {
      "cell_type": "code",
      "source": [
        "print(chisquare_test_statistics),print(p_value)"
      ],
      "metadata": {
        "colab": {
          "base_uri": "https://localhost:8080/"
        },
        "id": "PkWgbubxeXmS",
        "outputId": "ff755989-ce99-49fa-c94e-2e365c8ffa89"
      },
      "execution_count": 6,
      "outputs": [
        {
          "output_type": "stream",
          "name": "stdout",
          "text": [
            "3.4345238095238093\n",
            "0.7526596580922865\n"
          ]
        },
        {
          "output_type": "execute_result",
          "data": {
            "text/plain": [
              "(None, None)"
            ]
          },
          "metadata": {},
          "execution_count": 6
        }
      ]
    },
    {
      "cell_type": "code",
      "source": [
        "# find the critical value\n",
        "significance = 0.05\n",
        "dof = len(observed_data)-1\n",
        "critical_value = stat.chi2.ppf(1-significance,dof)  # ppf is the function which is actually helping me to find out the critical value"
      ],
      "metadata": {
        "id": "Joz5_gZRep9f"
      },
      "execution_count": 8,
      "outputs": []
    },
    {
      "cell_type": "code",
      "source": [
        "critical_value"
      ],
      "metadata": {
        "colab": {
          "base_uri": "https://localhost:8080/"
        },
        "id": "sAYu2CKffFwf",
        "outputId": "5b91f3aa-df8e-4081-ca94-73a4b2500673"
      },
      "execution_count": 9,
      "outputs": [
        {
          "output_type": "execute_result",
          "data": {
            "text/plain": [
              "12.591587243743977"
            ]
          },
          "metadata": {},
          "execution_count": 9
        }
      ]
    },
    {
      "cell_type": "code",
      "source": [
        "if chisquare_test_statistics > critical_value:\n",
        "  print(\"Reject the Null hypothesis\")\n",
        "else:\n",
        "  print(\"Accept the Null hypothesis\")\n"
      ],
      "metadata": {
        "colab": {
          "base_uri": "https://localhost:8080/"
        },
        "id": "2BMxNbqFfMCo",
        "outputId": "b5766ac8-0fd5-48bc-8c04-eb850f3159d4"
      },
      "execution_count": 10,
      "outputs": [
        {
          "output_type": "stream",
          "name": "stdout",
          "text": [
            "Accept the Null hypothesis\n"
          ]
        }
      ]
    }
  ]
}